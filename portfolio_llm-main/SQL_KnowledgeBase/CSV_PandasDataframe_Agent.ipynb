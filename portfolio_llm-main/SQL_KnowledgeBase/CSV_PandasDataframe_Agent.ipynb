{
  "cells": [
    {
      "cell_type": "markdown",
      "metadata": {
        "id": "6791IMvuGHXi"
      },
      "source": [
        "#1. 필수 라이브러리"
      ]
    },
    {
      "cell_type": "code",
      "execution_count": null,
      "metadata": {
        "colab": {
          "base_uri": "https://localhost:8080/"
        },
        "id": "OPIFYSrKFZIV",
        "outputId": "69534177-13b8-4b22-839d-7938965127ea"
      },
      "outputs": [],
      "source": [
        "!pip install cohere\n",
        "!pip install tiktoken\n",
        "!pip install openai\n",
        "!pip install langchain\n",
        "!pip install langchain_experimental\n",
        "!pip install google-search-results"
      ]
    },
    {
      "cell_type": "code",
      "execution_count": null,
      "metadata": {
        "id": "GcPKQmTnF7Ba"
      },
      "outputs": [],
      "source": [
        "from langchain.chat_models import ChatOpenAI\n",
        "from langchain.llms import OpenAI\n",
        "from langchain_experimental.agents.agent_toolkits import create_csv_agent\n",
        "from langchain.agents.agent_types import AgentType\n",
        "from langchain.agents import initialize_agent, Tool\n",
        "from langchain import LLMMathChain\n",
        "from langchain_experimental.tools.python.tool import PythonAstREPLTool\n",
        "\n",
        "import pandas as pd\n",
        "import os"
      ]
    },
    {
      "cell_type": "markdown",
      "metadata": {
        "id": "bn5VRARsGTVB"
      },
      "source": [
        "#2.OPENAI/SERPAPI KEY Setting"
      ]
    },
    {
      "cell_type": "code",
      "execution_count": null,
      "metadata": {
        "id": "A92Paw1VGSGi"
      },
      "outputs": [],
      "source": [
        "os.environ[\"OPENAI_API_KEY\"] = \"OPENAI_API_KEY\"\n",
        "os.environ[\"SERPAPI_API_KEY\"] = \"SERPAPI_API_KEY\""
      ]
    },
    {
      "cell_type": "markdown",
      "metadata": {
        "id": "F8dkkhu7G0Fo"
      },
      "source": [
        "#3.dashboard_defect_rate data load(Pandas Dataframe)"
      ]
    },
    {
      "cell_type": "code",
      "execution_count": null,
      "metadata": {
        "id": "x74sBEzXG8hT"
      },
      "outputs": [],
      "source": [
        "df = pd.read_csv(\"CSV_FILE_PATH/CSV_FILE.csv\")\n",
        "\n",
        "python = PythonAstREPLTool(locals={\"df\": df}) # set access of python_repl tool to the dataframe\n",
        "df_columns = df.columns.to_list() # print column names of df"
      ]
    },
    {
      "cell_type": "markdown",
      "metadata": {
        "id": "Rg_yOT0pHfZY"
      },
      "source": [
        "#4.Tool Setting"
      ]
    },
    {
      "cell_type": "code",
      "execution_count": null,
      "metadata": {
        "id": "J1pLQ6oyHh0-"
      },
      "outputs": [],
      "source": [
        "tools = [\n",
        "    Tool(\n",
        "        name = \"dashboard_defect_rate_analysis\",\n",
        "        func=python.run,\n",
        "        description = f\"\"\"\n",
        "        Useful for when you need to answer questions about defect rate data stored in pandas dataframe 'df_columns'.\n",
        "        Run python pandas operations on 'df' to help you get the right answer.\n",
        "        'df' has the following columns: {df_columns}\n",
        "\n",
        "        <user>: 질문 프롬프트 예시\n",
        "        <assistant>: df.groupby('컬럼명')['깂'].sum()\n",
        "        <assistant>: 답변은 이렇습니다  (ㅇ 예시)\n",
        "                      BU_CD SUM(BU_CD)\n",
        "                      CR    26.15\n",
        "                      LP     7.21\n",
        "                      QT    12.50\n",
        "        \"\"\"\n",
        "    )\n",
        "]"
      ]
    },
    {
      "cell_type": "markdown",
      "metadata": {
        "id": "gYYsHwmsKTWw"
      },
      "source": [
        "#5.Memory Setting/Agent arguments Setting"
      ]
    },
    {
      "cell_type": "code",
      "execution_count": null,
      "metadata": {
        "id": "X2_qVKLGKQAS"
      },
      "outputs": [],
      "source": [
        "from langchain.memory import ConversationBufferMemory\n",
        "from langchain.prompts import MessagesPlaceholder\n",
        "\n",
        "memory = ConversationBufferMemory(memory_key=\"memory\", return_messages=True)\n",
        "agent_kwargs = {\n",
        "    \"extra_prompt_messages\": [MessagesPlaceholder(variable_name=\"memory\")],\n",
        "    'prefix': f'You are an expert in checking the defect rate.. You have access to the following tools:'\n",
        "}\n",
        "\n"
      ]
    },
    {
      "cell_type": "markdown",
      "metadata": {
        "id": "056VSNM1H8M1"
      },
      "source": [
        "#7.LLM Agent Setting"
      ]
    },
    {
      "cell_type": "code",
      "execution_count": null,
      "metadata": {
        "id": "pk5lFKtMIA4z"
      },
      "outputs": [],
      "source": [
        "llm = ChatOpenAI(model=\"gpt-3.5-turbo\", temperature=0)\n",
        "\n",
        "# initialize the LLM agent\n",
        "agent = initialize_agent(tools,\n",
        "                         llm,\n",
        "                         agent=AgentType.ZERO_SHOT_REACT_DESCRIPTION,\n",
        "                         verbose=True,\n",
        "                         agent_kwargs=agent_kwargs,\n",
        "                         memory=memory,\n",
        "                         max_execution_time=1,\n",
        "                         early_stopping_method=\"generate\",\n",
        "                         )"
      ]
    },
    {
      "cell_type": "markdown",
      "metadata": {
        "id": "ExeDkjqxIMuo"
      },
      "source": [
        "#8. Query"
      ]
    },
    {
      "cell_type": "code",
      "execution_count": null,
      "metadata": {
        "colab": {
          "base_uri": "https://localhost:8080/",
          "height": 1000
        },
        "id": "T7NsykyHIPXV",
        "outputId": "698af707-dd5b-4704-ad08-b5b9ce5c1285"
      },
      "outputs": [],
      "source": [
        "agent.run(\"사업부별 월별 불량률은 얼마인가?\")"
      ]
    }
  ],
  "metadata": {
    "colab": {
      "provenance": []
    },
    "kernelspec": {
      "display_name": "Python 3",
      "name": "python3"
    },
    "language_info": {
      "name": "python"
    }
  },
  "nbformat": 4,
  "nbformat_minor": 0
}
