{
  "cells": [
    {
      "cell_type": "markdown",
      "metadata": {
        "id": "UUkQ2GzhdooM"
      },
      "source": [
        "#LCEL Querying a SQL DB"
      ]
    },
    {
      "cell_type": "code",
      "execution_count": null,
      "metadata": {
        "colab": {
          "base_uri": "https://localhost:8080/"
        },
        "id": "gpkSdxUIdrzS",
        "outputId": "3520b27e-6a21-454a-9934-766e4d8bd081"
      },
      "outputs": [],
      "source": [
        "!pip install cohere tiktoken langchain langchain-experimental openai langchainhub pymssql sqlalchemy"
      ]
    },
    {
      "cell_type": "markdown",
      "metadata": {
        "id": "67mIt0brptST"
      },
      "source": [
        "#MSSQL\n",
        "##DEV\n",
        "###database_user = 'wonikadmin'\n",
        "###database_password = 'wonikqnc@6139'\n",
        "###database_server = 'wiq-qms-sql.database.windows.net'\n",
        "###database_db = 'WIQ-QMS-DEV-DB'\n",
        "\n",
        "\n",
        "##PROD\n",
        "###database_user = 'wonikadmin'\n",
        "###database_password = 'wonikqnc@6139'\n",
        "###database_server = 'wiq-qms-sql.database.windows.net'\n",
        "###database_db = 'WIQ-QMS-PROD-DB'"
      ]
    },
    {
      "cell_type": "markdown",
      "metadata": {
        "id": "xIB6YLzGHh0g"
      },
      "source": [
        "###1.IMPORT LIBRARY"
      ]
    },
    {
      "cell_type": "code",
      "execution_count": null,
      "metadata": {
        "id": "csnX63HhWwyR"
      },
      "outputs": [],
      "source": [
        "from langchain.chat_models import ChatOpenAI\n",
        "\n",
        "from langchain.chains.conversation.memory import ConversationBufferWindowMemory\n",
        "from langchain.chains import RetrievalQA\n",
        "from langchain.agents import Tool\n",
        "from langchain.llms import OpenAI\n",
        "from langchain.utilities import SQLDatabase\n",
        "from langchain_experimental.sql import SQLDatabaseChain\n",
        "from langchain.agents import create_sql_agent\n",
        "from langchain.agents.agent_toolkits import SQLDatabaseToolkit\n",
        "from langchain.agents import AgentType, initialize_agent\n",
        "\n",
        "from langchain.schema import SystemMessage\n",
        "from langchain.schema.output_parser import StrOutputParser\n",
        "from langchain.schema.runnable import RunnablePassthrough\n",
        "\n",
        "from langchain.prompts import PromptTemplate,ChatPromptTemplate, MessagesPlaceholder\n",
        "from langchain.memory import ConversationBufferMemory\n",
        "import os"
      ]
    },
    {
      "cell_type": "markdown",
      "metadata": {
        "id": "R7mQ6xK8snLb"
      },
      "source": [
        "###2.LLM Model"
      ]
    },
    {
      "cell_type": "code",
      "execution_count": null,
      "metadata": {
        "id": "aKc0WLzcsjhT"
      },
      "outputs": [],
      "source": [
        "# ChatGPT 모델 지정\n",
        "llm = ChatOpenAI(model_name=\"gpt-4-0613\", temperature=0)\n",
        "#llm = ChatOpenAI(model_name='gpt-3.5-turbo-1106',temperature=0)"
      ]
    },
    {
      "cell_type": "markdown",
      "metadata": {
        "id": "n520zBIcHwhS"
      },
      "source": [
        "###3.KEY SETTINGS"
      ]
    },
    {
      "cell_type": "code",
      "execution_count": null,
      "metadata": {
        "id": "-HR1H9tt4KYh"
      },
      "outputs": [],
      "source": [
        "os.environ[\"OPENAI_API_KEY\"]      = \"OPENAI_API_KEY\"\n",
        "os.environ[\"GOOGLE_API_KEY\"]      = \"GOOGLE_API_KEY\"\n",
        "os.environ[\"GOOGLE_CSE_ID\"]       = \"GOOGLE_CSE_ID\""
      ]
    },
    {
      "cell_type": "markdown",
      "metadata": {
        "id": "bqGYvKojr5_L"
      },
      "source": [
        "###4.DATA SOURCE"
      ]
    },
    {
      "cell_type": "code",
      "execution_count": null,
      "metadata": {
        "id": "MMdouLt4qglR"
      },
      "outputs": [],
      "source": [
        "#Datasource\n",
        "database_user = 'USER_NAME'\n",
        "database_password = 'DB_USER_PW'\n",
        "database_server = 'DB Server'\n",
        "database_db = 'Database Name'"
      ]
    },
    {
      "cell_type": "markdown",
      "metadata": {
        "id": "TCQMNVphsAZI"
      },
      "source": [
        "####4-1.Connection Str 생성"
      ]
    },
    {
      "cell_type": "code",
      "execution_count": null,
      "metadata": {
        "id": "58zBsIdsq0X5"
      },
      "outputs": [],
      "source": [
        "#Connection String\n",
        "import urllib.parse\n",
        "encoded_password = urllib.parse.quote(database_password)\n",
        "\n",
        "#1433 : port\n",
        "connection_string = f\"mssql+pymssql://{database_user}:{encoded_password}@{database_server}:1433/{database_db}\""
      ]
    },
    {
      "cell_type": "markdown",
      "metadata": {
        "id": "8bNtCKR7sGJm"
      },
      "source": [
        "####4-2.Target Table"
      ]
    },
    {
      "cell_type": "code",
      "execution_count": null,
      "metadata": {
        "id": "x-dc6iEJrY91"
      },
      "outputs": [],
      "source": [
        "#Include tables\n",
        "include_tables=[ \"TB_MST_ITEM\",\"TB_MST_CODE\" ]"
      ]
    },
    {
      "cell_type": "markdown",
      "metadata": {
        "id": "AD9cGHb8sShk"
      },
      "source": [
        "##5.AGENT TYPE\n"
      ]
    },
    {
      "cell_type": "markdown",
      "metadata": {
        "id": "40qHU2oQusJN"
      },
      "source": [
        "###5-1.LCEL Chain Type"
      ]
    },
    {
      "cell_type": "code",
      "execution_count": null,
      "metadata": {
        "id": "bkeMfU71rR8h"
      },
      "outputs": [],
      "source": [
        "#dataSource\n",
        "db = SQLDatabase.from_uri(connection_string, include_tables=include_tables)"
      ]
    },
    {
      "cell_type": "code",
      "execution_count": null,
      "metadata": {
        "id": "vrzB-FtvrR8n"
      },
      "outputs": [],
      "source": [
        "toolkit = SQLDatabaseToolkit(db=db, llm=OpenAI(temperature=0))"
      ]
    },
    {
      "cell_type": "code",
      "execution_count": null,
      "metadata": {
        "id": "_Ux2XK-heVCZ"
      },
      "outputs": [],
      "source": [
        "#Utility function\n",
        "def get_schema(_):\n",
        "    return db.get_usable_table_names()\n",
        "\n",
        "def run_query(query):\n",
        "    return db.run(query)"
      ]
    },
    {
      "cell_type": "code",
      "execution_count": null,
      "metadata": {
        "id": "5F7KcT0YeIdT"
      },
      "outputs": [],
      "source": [
        "from langchain.prompts import ChatPromptTemplate\n",
        "\n",
        "template = \"\"\"Based on the table schema below, write a MSSQL query that would answer the user's question:\n",
        "{schema}\n",
        "\n",
        "Question: {question}\n",
        "SQL Query:\"\"\"\n",
        "prompt = ChatPromptTemplate.from_template(template)"
      ]
    },
    {
      "cell_type": "code",
      "execution_count": null,
      "metadata": {
        "colab": {
          "base_uri": "https://localhost:8080/"
        },
        "id": "DFGzTO_7euRO",
        "outputId": "91990a1f-6b54-48b6-f7cd-2f32782c1e1b"
      },
      "outputs": [],
      "source": [
        "db.get_table_names()"
      ]
    },
    {
      "cell_type": "code",
      "execution_count": null,
      "metadata": {
        "colab": {
          "base_uri": "https://localhost:8080/",
          "height": 91
        },
        "id": "syWXTZXift5Y",
        "outputId": "95195dd3-97ef-495c-bc91-62da2cd48306"
      },
      "outputs": [],
      "source": [
        "db.get_table_info()"
      ]
    },
    {
      "cell_type": "code",
      "execution_count": null,
      "metadata": {
        "id": "pJwMpA9NfxCL"
      },
      "outputs": [],
      "source": [
        "sql_response = (\n",
        "    RunnablePassthrough.assign(schema=get_schema)\n",
        "    | prompt\n",
        "    | llm.bind(stop=[\"\\nSQLResult:\"])\n",
        "    | StrOutputParser()\n",
        ")"
      ]
    },
    {
      "cell_type": "code",
      "execution_count": null,
      "metadata": {
        "colab": {
          "base_uri": "https://localhost:8080/",
          "height": 35
        },
        "id": "AQ9jCQY0gDGJ",
        "outputId": "3247608c-3bc9-47ff-923a-4d5d5b4aa456"
      },
      "outputs": [],
      "source": [
        "sql_response.invoke({\"question\": \"How many items are there?\"})"
      ]
    },
    {
      "cell_type": "code",
      "execution_count": null,
      "metadata": {
        "id": "BVXDxZq-g-J_"
      },
      "outputs": [],
      "source": [
        "template = \"\"\"Based on the table schema below, question, sql query, and sql response, write a natural language response:\n",
        "{schema}\n",
        "\n",
        "Question: {question}\n",
        "SQL Query: {query}\n",
        "SQL Response: {response}\"\"\"\n",
        "prompt_response = ChatPromptTemplate.from_template(template)"
      ]
    },
    {
      "cell_type": "code",
      "execution_count": null,
      "metadata": {
        "id": "N9-Hr84Ig_5I"
      },
      "outputs": [],
      "source": [
        "full_chain = (\n",
        "    RunnablePassthrough.assign(query=sql_response)\n",
        "    | RunnablePassthrough.assign(\n",
        "        schema=get_schema,\n",
        "        response=lambda x: db.run(x[\"query\"]),\n",
        "    )\n",
        "    | prompt_response\n",
        "    | llm\n",
        ")"
      ]
    },
    {
      "cell_type": "code",
      "execution_count": null,
      "metadata": {
        "colab": {
          "base_uri": "https://localhost:8080/"
        },
        "id": "wnXlfVu2hWBe",
        "outputId": "4f76f35d-55af-48c5-eb3b-f61c926deaa8"
      },
      "outputs": [],
      "source": [
        "full_chain.invoke({\"question\": \"How many items are there?\"})"
      ]
    },
    {
      "cell_type": "code",
      "execution_count": null,
      "metadata": {
        "id": "bRY2HVPqjT4S"
      },
      "outputs": [],
      "source": [
        "from langchain.agents import AgentType, initialize_agent\n",
        "from langchain.agents.agent_toolkits import SQLDatabaseToolkit\n",
        "from langchain.chat_models import ChatOpenAI\n",
        "from langchain.schema import SystemMessage\n",
        "from langchain.utilities import SQLDatabase\n",
        "from langchain.agents import Tool\n",
        "from langchain_experimental.utilities import PythonREPL"
      ]
    },
    {
      "cell_type": "markdown",
      "metadata": {
        "id": "fth6exNju4t3"
      },
      "source": [
        "###5-2.Legacy Agent Type(initialize_agent)"
      ]
    },
    {
      "cell_type": "code",
      "execution_count": null,
      "metadata": {
        "id": "Kl1vjcaFu_c9"
      },
      "outputs": [],
      "source": [
        "#dataSource\n",
        "db = SQLDatabase.from_uri(connection_string, include_tables=include_tables)"
      ]
    },
    {
      "cell_type": "code",
      "execution_count": null,
      "metadata": {
        "id": "GeuZ0k5ju_c9"
      },
      "outputs": [],
      "source": [
        "toolkit = SQLDatabaseToolkit(db=db, llm=llm)"
      ]
    },
    {
      "cell_type": "code",
      "execution_count": null,
      "metadata": {
        "id": "nKZih0lQSMPT"
      },
      "outputs": [],
      "source": [
        "python_repl = PythonREPL()\n",
        "repl_tool = Tool(\n",
        "    name=\"python_repl\",\n",
        "    description=\"A Python shell. Use this to execute python commands. Input should be a valid python command. If you want to see the output of a value, you should print it out with `print(...)`.\",\n",
        "    func=python_repl.run,\n",
        ")\n",
        "\n",
        "custom_tool_list = [repl_tool]"
      ]
    },
    {
      "cell_type": "code",
      "execution_count": null,
      "metadata": {
        "id": "YLe3FDo-ITDg"
      },
      "outputs": [],
      "source": [
        "agent_template = \"\"\"\n",
        "  You are an expert MSSQL data analyst.You must query using mssql syntax.\n",
        "  Be sure to answer in Korean!\n",
        "\n",
        "  {memory}\n",
        "  Human: {human_input}\n",
        "Chatbot:\"\"\"\n",
        "\n",
        "agent_prompt = PromptTemplate(input_variables=[\"memory\", \"human_input\"],template=agent_template)\n",
        "\n",
        "agent_memory = ConversationBufferMemory(memory_key=\"memory\",prompt=agent_prompt, return_messages=True)\n",
        "\n",
        "agent_kwargs = {\n",
        "            \"extra_prompt_messages\": [MessagesPlaceholder(variable_name=\"agent_memory\")],\n",
        "        }"
      ]
    },
    {
      "cell_type": "code",
      "execution_count": null,
      "metadata": {
        "id": "UqF7bMo2jr-J"
      },
      "outputs": [],
      "source": [
        "agent = initialize_agent(\n",
        "    toolkit.get_tools(),\n",
        "    llm,\n",
        "    agent=AgentType.ZERO_SHOT_REACT_DESCRIPTION,   #ZERO_SHOT_REACT_DESCRIPTION     OPENAI_FUNCTIONS\n",
        "    memory=agent_memory,\n",
        "    verbose=True,\n",
        "    agent_kwargs=agent_kwargs,\n",
        "    extra_tools=custom_tool_list,\n",
        ")"
      ]
    },
    {
      "cell_type": "code",
      "execution_count": null,
      "metadata": {
        "colab": {
          "base_uri": "https://localhost:8080/"
        },
        "id": "fH3UZwN0j8Qz",
        "outputId": "33f9b293-b8fa-4a44-e281-1dfc314c3431"
      },
      "outputs": [],
      "source": [
        "response = agent.run(\"What is the most popular item? and Show it in chart form\")"
      ]
    },
    {
      "cell_type": "code",
      "execution_count": null,
      "metadata": {
        "colab": {
          "base_uri": "https://localhost:8080/",
          "height": 35
        },
        "id": "3vRLyWOQSAuH",
        "outputId": "62e3745c-bf5f-48f7-8210-bfbaf42a24b8"
      },
      "outputs": [],
      "source": [
        "response"
      ]
    },
    {
      "cell_type": "markdown",
      "metadata": {
        "id": "SzO3l_SoSH0w"
      },
      "source": [
        "###5-3.Legacy Agent Type(create_sql_agent)"
      ]
    },
    {
      "cell_type": "code",
      "execution_count": null,
      "metadata": {
        "id": "pYsQhiMutVNo"
      },
      "outputs": [],
      "source": [
        "db = SQLDatabase.from_uri(connection_string, include_tables=include_tables)"
      ]
    },
    {
      "cell_type": "markdown",
      "metadata": {
        "id": "jyABySLl4qeG"
      },
      "source": [
        "db = SQLDatabase.from_uri(\n",
        "    \"sqlite:///Chinook.db\",\n",
        "    include_tables=[\n",
        "        \"Track\"\n",
        "    ],  # we include only one table to save tokens in the prompt :)\n",
        "    sample_rows_in_table_info=2,\n",
        ")"
      ]
    },
    {
      "cell_type": "code",
      "execution_count": null,
      "metadata": {
        "id": "fQKVMWfh5gSr"
      },
      "outputs": [],
      "source": [
        "toolkit = SQLDatabaseToolkit(db=db, llm=llm)"
      ]
    },
    {
      "cell_type": "code",
      "execution_count": null,
      "metadata": {
        "id": "K9miVg6C99R5"
      },
      "outputs": [],
      "source": [
        "from langchain.prompts import PromptTemplate\n",
        "\n",
        "custom_suffix = \"\"\"\n",
        "You must query using MSSQL.\n",
        "Be sure to answer in Korean\n",
        "\"\"\""
      ]
    },
    {
      "cell_type": "code",
      "execution_count": null,
      "metadata": {
        "id": "I6_iU4U6KqQ8"
      },
      "outputs": [],
      "source": [
        "agent_template = \"\"\"\n",
        "  You are an expert MSSQL data analyst.You must query using mssql syntax.\n",
        "  Be sure to answer in Korean!\n",
        "\n",
        "  {memory}\n",
        "  Human: {human_input}\n",
        "Chatbot:\"\"\"\n",
        "\n",
        "agent_prompt = PromptTemplate(input_variables=[\"memory\", \"human_input\"],template=agent_template)\n",
        "\n",
        "agent_memory = ConversationBufferMemory(memory_key=\"memory\",prompt=agent_prompt, return_messages=True)\n",
        "\n",
        "agent_kwargs = {\n",
        "            \"extra_prompt_messages\": [MessagesPlaceholder(variable_name=\"agent_memory\")],\n",
        "        }"
      ]
    },
    {
      "cell_type": "code",
      "execution_count": null,
      "metadata": {
        "id": "ggY98mEV9cm1"
      },
      "outputs": [],
      "source": [
        "# conversational memory\n",
        "conversational_memory = ConversationBufferWindowMemory(\n",
        "    memory_key='chat_history',\n",
        "    k=5,\n",
        "    return_messages=True\n",
        ")"
      ]
    },
    {
      "cell_type": "code",
      "execution_count": null,
      "metadata": {
        "id": "vK3Cs8gui27d"
      },
      "outputs": [],
      "source": [
        "agent_executor = create_sql_agent(\n",
        "    llm=llm,\n",
        "    toolkit=toolkit,\n",
        "    verbose=True,\n",
        "    agent=AgentType.ZERO_SHOT_REACT_DESCRIPTION,   #ZERO_SHOT_REACT_DESCRIPTION     OPENAI_FUNCTIONS\n",
        "    handle_parsing_errors=False,\n",
        "    memory=conversational_memory,\n",
        "    agent_kwargs=agent_kwargs,\n",
        "    #suffix=custom_suffix,\n",
        ")"
      ]
    },
    {
      "cell_type": "code",
      "execution_count": null,
      "metadata": {
        "colab": {
          "base_uri": "https://localhost:8080/"
        },
        "id": "_diJpaFu-Ihg",
        "outputId": "12a337b8-e5bc-47a7-eccb-2d5108afb018"
      },
      "outputs": [],
      "source": [
        "response = agent_executor.run(\"What is the most popular item you are using?\")"
      ]
    },
    {
      "cell_type": "code",
      "execution_count": null,
      "metadata": {
        "colab": {
          "base_uri": "https://localhost:8080/",
          "height": 35
        },
        "id": "TifKPhEYH0Tb",
        "outputId": "cc2bffa2-4906-4511-91db-c6771d074269"
      },
      "outputs": [],
      "source": [
        "response"
      ]
    }
  ],
  "metadata": {
    "colab": {
      "provenance": []
    },
    "kernelspec": {
      "display_name": "Python 3",
      "name": "python3"
    },
    "language_info": {
      "name": "python"
    }
  },
  "nbformat": 4,
  "nbformat_minor": 0
}
