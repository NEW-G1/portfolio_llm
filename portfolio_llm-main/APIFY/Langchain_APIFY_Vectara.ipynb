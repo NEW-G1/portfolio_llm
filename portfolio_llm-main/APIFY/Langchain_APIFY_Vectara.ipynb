{
  "cells": [
    {
      "cell_type": "markdown",
      "metadata": {
        "id": "UZNA5y94f3oB"
      },
      "source": [
        "# Step 1 - Install Dependencies"
      ]
    },
    {
      "cell_type": "code",
      "execution_count": null,
      "metadata": {
        "id": "FYANx_rAwYB5"
      },
      "outputs": [],
      "source": [
        "!pip install pycoingecko requests tiktoken cohere openai langchain apify-client langchainhub pymupdf lark"
      ]
    },
    {
      "cell_type": "code",
      "execution_count": null,
      "metadata": {
        "id": "2pDO0p-hwnYs"
      },
      "outputs": [],
      "source": [
        "import os\n",
        "\n",
        "os.environ[\"APIFY_API_TOKEN\"]   = \"YOUR_APIFY_API_TOKEN\"\n",
        "\n",
        "os.environ[\"OPENAI_API_KEY\"] = \"YOUR_OPENAI_API_KEY\"\n",
        "\n",
        "os.environ[\"VECTARA_CUSTOMER_ID\"] = \"YOUR_VECTARA_CUSTOMER_ID\"\n",
        "os.environ[\"VECTARA_CORPUS_ID\"] = \"YOUR_VECTARA_CORPUS_ID\"\n",
        "os.environ[\"VECTARA_API_KEY\"] = \"YOUR_VECTARA_API_KEY\""
      ]
    },
    {
      "cell_type": "code",
      "execution_count": null,
      "metadata": {
        "id": "sopWgvOJw6qy"
      },
      "outputs": [],
      "source": [
        "import numpy as np\n",
        "import datetime as dt\n",
        "import openai\n",
        "import re\n",
        "import time"
      ]
    },
    {
      "cell_type": "markdown",
      "metadata": {
        "id": "9ydb5FETyhhh"
      },
      "source": [
        "# Step 2 - Import Data"
      ]
    },
    {
      "cell_type": "markdown",
      "metadata": {
        "id": "p9giFl85yj2X"
      },
      "source": [
        "## Data Source 1/3: APIFY Google Search Result"
      ]
    },
    {
      "cell_type": "code",
      "execution_count": null,
      "metadata": {
        "id": "Odrh2fFlKndE"
      },
      "outputs": [],
      "source": [
        "keyword_queries = \"South Korean semiconductor challenges\""
      ]
    },
    {
      "cell_type": "code",
      "execution_count": null,
      "metadata": {
        "id": "fDRRJtU8w7bt"
      },
      "outputs": [],
      "source": [
        "from apify_client import ApifyClient\n",
        "\n",
        "# Initialize the ApifyClient with your API token\n",
        "client = ApifyClient(os.getenv(\"APIFY_API_TOKEN\"))\n",
        "\n",
        "# Prepare the Actor input\n",
        "run_input = {\n",
        "    \"queries\": keyword_queries,\n",
        "    \"maxPagesPerQuery\": 1,\n",
        "    \"resultsPerPage\": 100,\n",
        "    \"customDataFunction\": \"\"\"async ({ input, $, request, response, html }) => {\n",
        "  return {\n",
        "    pageTitle: $('title').text(),\n",
        "  };\n",
        "};\"\"\",\n",
        "}\n",
        "\n",
        "# Run the Actor and wait for it to finish\n",
        "run = client.actor(\"apify/google-search-scraper\").call(run_input=run_input)\n",
        "\n",
        "# Fetch and print Actor results from the run's dataset (if there are any)\n",
        "loader = client.dataset(run[\"defaultDatasetId\"]).iterate_items()"
      ]
    },
    {
      "cell_type": "code",
      "execution_count": null,
      "metadata": {
        "id": "P8qJPrNExrY4"
      },
      "outputs": [],
      "source": [
        "temp = list()\n",
        "results = list()\n",
        "\n",
        "for i in loader:\n",
        "  temp.append(i)\n",
        "\n",
        "print(temp)"
      ]
    },
    {
      "cell_type": "markdown",
      "metadata": {
        "id": "R2zHqf-t8a5S"
      },
      "source": []
    },
    {
      "cell_type": "code",
      "execution_count": null,
      "metadata": {
        "id": "ZDE-ldBEx3G5"
      },
      "outputs": [],
      "source": [
        "data = temp[0]['organicResults']\n",
        "data"
      ]
    },
    {
      "cell_type": "code",
      "execution_count": null,
      "metadata": {
        "id": "MM2omTfWx5Km"
      },
      "outputs": [],
      "source": [
        "dates = [result.get('date') for result in temp[0]['organicResults'] if 'date' in result]\n",
        "print(dates)"
      ]
    },
    {
      "cell_type": "code",
      "execution_count": null,
      "metadata": {
        "id": "XDi4VAtcx6I7"
      },
      "outputs": [],
      "source": [
        "from datetime import datetime"
      ]
    },
    {
      "cell_type": "code",
      "execution_count": null,
      "metadata": {
        "id": "Pz6-PwvTyBBf"
      },
      "outputs": [],
      "source": [
        "#2023년 데이터\n",
        "filtered_data = [item for item in data if 'date' in item and datetime.fromisoformat(item['date'][:-1]).year == 2023]"
      ]
    },
    {
      "cell_type": "code",
      "execution_count": null,
      "metadata": {
        "id": "RY89AKdPyCXn"
      },
      "outputs": [],
      "source": [
        "urls = []\n",
        "dates = []\n",
        "for item in filtered_data:\n",
        "  urls.append(item['url'])\n",
        "  dates.append(item['date'])"
      ]
    },
    {
      "cell_type": "code",
      "execution_count": null,
      "metadata": {
        "id": "QOyphnlcUUCs"
      },
      "outputs": [],
      "source": [
        "print(urls)\n",
        "print(dates)"
      ]
    },
    {
      "cell_type": "code",
      "execution_count": null,
      "metadata": {
        "id": "0mPK9shm0ZnU"
      },
      "outputs": [],
      "source": [
        "min_date = min(dates)\n",
        "print(min_date)"
      ]
    },
    {
      "cell_type": "markdown",
      "metadata": {
        "id": "slnLr_CDyvCf"
      },
      "source": [
        "## Data Source 2/3: APIFY Web Contents Crawling"
      ]
    },
    {
      "cell_type": "code",
      "execution_count": null,
      "metadata": {
        "id": "pQ-R5pFIyFLr"
      },
      "outputs": [],
      "source": [
        "from langchain.utilities import ApifyWrapper\n",
        "from langchain_core.documents.base import Document\n",
        "import os\n",
        "\n",
        "# Initialize the ApifyClient with your API token\n",
        "apify = ApifyWrapper()\n",
        "\n",
        "startUrls = [{\"url\": url} for url in urls]\n",
        "\n",
        "#print(startUrls)\n",
        "\n",
        "# Prepare the Actor input\n",
        "run_input = {\n",
        "    \"startUrls\": startUrls,\n",
        "    \"includeUrlGlobs\": [],\n",
        "    \"excludeUrlGlobs\": [],\n",
        "    \"initialCookies\": [],\n",
        "    \"proxyConfiguration\": { \"useApifyProxy\": True },\n",
        "    \"removeElementsCssSelector\": \"\"\"nav, footer, script, style, noscript, svg,\n",
        "[role=\\\"alert\\\"],\n",
        "[role=\\\"banner\\\"],\n",
        "[role=\\\"dialog\\\"],\n",
        "[role=\\\"alertdialog\\\"],\n",
        "[role=\\\"region\\\"][aria-label*=\\\"skip\\\" i],\n",
        "[aria-modal=\\\"true\\\"]\"\"\",\n",
        "    \"clickElementsCssSelector\": \"[aria-expanded=\\\"false\\\"]\",\n",
        "}\n",
        "\n",
        "# Run the Actor and wait for it to finish\n",
        "loader = apify.call_actor(\n",
        "    actor_id=\"apify/website-content-crawler\",\n",
        "    run_input=run_input,\n",
        "    dataset_mapping_function=lambda item: Document(\n",
        "        page_content=item[\"text\"] or \"\", metadata={\"source\": item[\"url\"]}\n",
        "    ),\n",
        ")"
      ]
    },
    {
      "cell_type": "markdown",
      "metadata": {
        "id": "wryx9tp4y41L"
      },
      "source": [
        "## Data Source 3/3 - Vectara Initialize"
      ]
    },
    {
      "cell_type": "code",
      "execution_count": null,
      "metadata": {
        "id": "ZDp1RyakySyo"
      },
      "outputs": [],
      "source": [
        "from langchain.vectorstores import Vectara\n",
        "\n",
        "vectara = Vectara(\n",
        "      vectara_customer_id = os.getenv(\"VECTARA_CUSTOMER_ID\")\n",
        "    , vectara_corpus_id   = os.getenv(\"VECTARA_CORPUS_ID\")\n",
        "    , vectara_api_key     = os.getenv(\"VECTARA_API_KEY\")\n",
        ")"
      ]
    },
    {
      "cell_type": "code",
      "execution_count": null,
      "metadata": {
        "id": "rrW_x-lJF3WG"
      },
      "outputs": [],
      "source": [
        "documents = loader.load()"
      ]
    },
    {
      "cell_type": "code",
      "execution_count": null,
      "metadata": {
        "id": "QV3csNe7GXlS"
      },
      "outputs": [],
      "source": [
        "vectera = Vectara.from_documents(\n",
        "      documents\n",
        "    , embedding=None\n",
        "    , doc_metadata={\"category\":\"knowledgebase\"\n",
        "                  , \"keyword\":keyword_queries\n",
        "                  , \"date\":min_date\n",
        "                }\n",
        ")"
      ]
    },
    {
      "cell_type": "markdown",
      "metadata": {
        "id": "GETZTkhUfny4"
      },
      "source": [
        "# Step 3 - Vectara 리트리버 및 Chain&Agent 생성"
      ]
    },
    {
      "cell_type": "code",
      "execution_count": null,
      "metadata": {
        "id": "XCozxbBzgfTJ"
      },
      "outputs": [],
      "source": [
        "from langchain.chat_models import ChatOpenAI\n",
        "from langchain.chains import RetrievalQAWithSourcesChain\n",
        "from langchain.prompts import PromptTemplate\n",
        "from langchain.chains import RetrievalQA\n",
        "from langchain.agents import AgentType\n",
        "from langchain.agents import initialize_agent, Tool"
      ]
    },
    {
      "cell_type": "markdown",
      "metadata": {
        "id": "YepPq9YfpBz3"
      },
      "source": [
        "## Vectara 리트리버 생성"
      ]
    },
    {
      "cell_type": "markdown",
      "metadata": {
        "id": "_6inM7s76OvV"
      },
      "source": [
        "### Vectara Metadata Filter 테스트"
      ]
    },
    {
      "cell_type": "code",
      "execution_count": null,
      "metadata": {
        "id": "lU0bd-iVFhjk"
      },
      "outputs": [],
      "source": [
        "query=\"반도체시장 전망에 대해 알려주세요.\"\n",
        "selected_keywords = ['Semiconductor industry outlook']\n",
        "\n",
        "# selected_keywords 여러개 일 때 IN 절에 사용할 문자열 생성\n",
        "keywords_str = ', '.join([f\"'{kw}'\" for kw in selected_keywords])\n",
        "\n",
        "# 필터 구성\n",
        "filters = f\"doc.keyword IN ({keywords_str})\"\n",
        "print(filter)"
      ]
    },
    {
      "cell_type": "code",
      "execution_count": null,
      "metadata": {
        "id": "rumBvxpjOu6o"
      },
      "outputs": [],
      "source": [
        "# selected_keywords 한 개 일 경우\n",
        "keyword_string = ' '.join(selected_keywords)"
      ]
    },
    {
      "cell_type": "code",
      "execution_count": null,
      "metadata": {
        "id": "MWR4LqjeHTkE"
      },
      "outputs": [],
      "source": [
        "# Vectara Metadata filter IN절 안됨\n",
        "found_docs = vectara.similarity_search(\n",
        "    query, n_sentence_context=0, filter=\"doc.keyword IN 'Semiconductor'\"\n",
        ")\n",
        "\n",
        "# found_docs = vectara.similarity_search(\n",
        "#     query, n_sentence_context=0, filter=filters\n",
        "# )\n",
        "\n",
        "found_docs"
      ]
    },
    {
      "cell_type": "code",
      "execution_count": null,
      "metadata": {
        "id": "4-kNJ1O4rc1U"
      },
      "outputs": [],
      "source": [
        "# Vectara Metadata filter =은 적용됨\n",
        "query=\"2024년 반도체시장 전망에 대해 알려주세요.\"\n",
        "filters = f\"doc.keyword = '{keyword_string}'\"\n",
        "\n",
        "found_docs = vectara.similarity_search(\n",
        "    query, n_sentence_context=0, filter=filters\n",
        ")\n",
        "\n",
        "# found_docs = vectara.similarity_search(\n",
        "#     query, k=10, n_sentence_context=0, filter=\"doc.keyword = 'Semiconductor industry outlook'\"\n",
        "# )"
      ]
    },
    {
      "cell_type": "code",
      "execution_count": null,
      "metadata": {
        "id": "44lM3iQzr377"
      },
      "outputs": [],
      "source": [
        "print(found_docs[0].page_content)"
      ]
    },
    {
      "cell_type": "code",
      "execution_count": null,
      "metadata": {
        "id": "qD3fZGXy6OvV"
      },
      "outputs": [],
      "source": [
        "for doc in found_docs:\n",
        "    print(\"Page Content:\", doc.page_content)\n",
        "    print(\"Metadata:\", doc.metadata)\n",
        "    print(\"\\n\")"
      ]
    },
    {
      "cell_type": "code",
      "execution_count": null,
      "metadata": {
        "id": "5hBFpQYVK1E5"
      },
      "outputs": [],
      "source": [
        "search_kwargs = {\n",
        "    \"filter\":{\"doc.keyword = 'Semiconductor industry outlook'\"}\n",
        "\n",
        "}\n",
        "retriever=vectara.as_retriever(search_type=\"similarity\",search_kwargs=search_kwargs)"
      ]
    },
    {
      "cell_type": "code",
      "execution_count": null,
      "metadata": {
        "id": "RoyxYrSQMkmD"
      },
      "outputs": [],
      "source": [
        "# Retrieverd에서 qeury실행 시 가져오 결과값과 관련된 문서 출력\n",
        "query = \"2024 반도체 시장 전망\"\n",
        "retriever.get_relevant_documents(query)"
      ]
    },
    {
      "cell_type": "markdown",
      "metadata": {
        "id": "_ddPsOxv6OvV"
      },
      "source": [
        "### RetrievalQA vectara 리트리버 filter 테스트"
      ]
    },
    {
      "cell_type": "code",
      "execution_count": null,
      "metadata": {
        "id": "jGULz2V-KQaC"
      },
      "outputs": [],
      "source": [
        "from langchain.chains import RetrievalQA\n",
        "from langchain.llms import OpenAI\n",
        "from langchain.chat_models import ChatOpenAI\n",
        "\n",
        "# Setup LLM\n",
        "#llm = ChatOpenAI(model_name=\"gpt-4-0613\", temperature=0)\n",
        "llm = ChatOpenAI(\n",
        "    model_name=\"gpt-3.5-turbo\", openai_api_key=os.getenv(\"OPENAI_API_KEY\"), temperature=0, streaming=True\n",
        ")\n",
        "\n",
        "search_kwargs = {\n",
        "    \"filter\":{\"doc.keyword = 'Semiconductor market trends'\"}\n",
        "\n",
        "}\n",
        "qa_filter = RetrievalQA.from_llm(llm=llm, retriever=vectara.as_retriever(search_type=\"similarity\",search_kwargs=search_kwargs))\n",
        "qa_filter({\"query\":\"2024반도체 시장 전망\", })"
      ]
    },
    {
      "cell_type": "markdown",
      "metadata": {
        "id": "VMLGACuT6OvW"
      },
      "source": [
        "## 프롬프트 생성"
      ]
    },
    {
      "cell_type": "code",
      "execution_count": null,
      "metadata": {
        "id": "aMu8CXjP6OvW"
      },
      "outputs": [],
      "source": [
        "# Create Prompt\n",
        "question_prompt_template = \"\"\"Use the following portion of a long document to see if any of the text is relevant to answer the question.\n",
        "Return any relevant text verbatim.\n",
        "{context}\n",
        "Question: {question}\n",
        "Relevant text, if any:\"\"\"\n",
        "\n",
        "#prompt = ChatPromptTemplate.from_template(question_prompt_template)\n",
        "\n",
        "QUESTION_PROMPT = PromptTemplate(\n",
        "    template=question_prompt_template, input_variables=[\"context\", \"question\"]\n",
        ")"
      ]
    },
    {
      "cell_type": "markdown",
      "metadata": {
        "id": "OdqPACshpFJf"
      },
      "source": [
        "## RetrievalQAWithSources Chain 생성"
      ]
    },
    {
      "cell_type": "code",
      "execution_count": null,
      "metadata": {
        "id": "uIlome30oaeC"
      },
      "outputs": [],
      "source": [
        "chain_type_kwargs = {\"verbose\": True,  \"question_prompt\": QUESTION_PROMPT}\n",
        "\n",
        "qa = RetrievalQAWithSourcesChain.from_chain_type(llm=llm, chain_type=\"map_reduce\",\n",
        "                                retriever=retriever, return_source_documents=True,\n",
        "                                chain_type_kwargs=chain_type_kwargs)\n",
        "response = qa({\"question\": \"반도체 시장에서 우려되는 점 5가지\", \"verbose\": True})\n",
        "print(\"*********************************\")\n",
        "print(response.keys())\n",
        "print(response[\"answer\"])\n",
        "print(response[\"sources\"])"
      ]
    },
    {
      "cell_type": "markdown",
      "metadata": {
        "id": "6asOW-CDpOoz"
      },
      "source": [
        "## RetrievalQA Chain 생성"
      ]
    },
    {
      "cell_type": "code",
      "execution_count": null,
      "metadata": {
        "id": "cEfRhAtkf7tv"
      },
      "outputs": [],
      "source": [
        "# Create RetrievalQAChain\n",
        "\n",
        "knowledgeBase_qa = RetrievalQA.from_chain_type(\n",
        "    llm=llm,\n",
        "    chain_type=\"stuff\",\n",
        "    retriever=retriever,\n",
        "    input_key=\"query\",\n",
        "    verbose=True,\n",
        "    chain_type_kwargs={\n",
        "        \"prompt\": QUESTION_PROMPT\n",
        "    },\n",
        ")"
      ]
    },
    {
      "cell_type": "code",
      "execution_count": null,
      "metadata": {
        "id": "Jm2xs48Zh2pb"
      },
      "outputs": [],
      "source": [
        "query = \"반도체 시장에서 우려되는 점 알려주세요.\"\n",
        "response = knowledgeBase_qa({\"query\": query},return_only_outputs=True)"
      ]
    },
    {
      "cell_type": "code",
      "execution_count": null,
      "metadata": {
        "id": "pzPDtwg2iNQu"
      },
      "outputs": [],
      "source": [
        "response.keys()"
      ]
    },
    {
      "cell_type": "code",
      "execution_count": null,
      "metadata": {
        "id": "DmDf6FYhhIn9"
      },
      "outputs": [],
      "source": [
        "def run_qa_chain(query):\n",
        "    results = knowledgeBase_qa({\"query\": query},return_only_outputs=True)\n",
        "    return str(results)"
      ]
    },
    {
      "cell_type": "markdown",
      "metadata": {
        "id": "ZjXEGRxVqeP7"
      },
      "source": [
        "## Tool 생성"
      ]
    },
    {
      "cell_type": "code",
      "execution_count": null,
      "metadata": {
        "id": "vtXZ16c2hUT5"
      },
      "outputs": [],
      "source": [
        "# Search\n",
        "# search = GoogleSearchAPIWrapper()\n",
        "\n",
        "tools = [\n",
        "    Tool(\n",
        "        name='Knowledge Base',\n",
        "        func=run_qa_chain,\n",
        "        return_direct=True,\n",
        "        description=(f'''\n",
        "            use this tool when answering general knowledge queries to get\n",
        "            more information about the topic\n",
        "            '''\n",
        "        )\n",
        "    )\n",
        "\n",
        "]"
      ]
    },
    {
      "cell_type": "markdown",
      "metadata": {
        "id": "WokvaDAMqkOh"
      },
      "source": [
        "## Agent Template 생성"
      ]
    },
    {
      "cell_type": "code",
      "execution_count": null,
      "metadata": {
        "id": "TzgN4u4squBK"
      },
      "outputs": [],
      "source": [
        "from langchain.memory import ConversationBufferMemory\n",
        "from langchain.prompts import MessagesPlaceholder"
      ]
    },
    {
      "cell_type": "code",
      "execution_count": null,
      "metadata": {
        "id": "s2naXOP_hgqn"
      },
      "outputs": [],
      "source": [
        "agent_template = \"\"\"You are an expert at extracting information from your knowledge base.\n",
        "When searching for the first time, a search is performed in the knowledge base,\n",
        "and if there are insufficient or no results, a Google search is performed and the results are displayed.\n",
        "Be sure to answer in Korean!\n",
        "{memory}\n",
        "Human: {human_input}\n",
        "Chatbot:\"\"\"\n",
        "\n",
        "agent_prompt = PromptTemplate(input_variables=[\"memory\", \"human_input\"],template=agent_template)\n",
        "\n",
        "agent_memory = ConversationBufferMemory(memory_key=\"memory\",prompt=agent_prompt, return_messages=True)\n",
        "\n",
        "agent_kwargs = {\n",
        "            \"extra_prompt_messages\": [MessagesPlaceholder(variable_name=\"agent_memory\")],\n",
        "        }"
      ]
    },
    {
      "cell_type": "markdown",
      "metadata": {
        "id": "O2cUJf8brCDR"
      },
      "source": [
        "## Initialize Agent"
      ]
    },
    {
      "cell_type": "code",
      "execution_count": null,
      "metadata": {
        "id": "nIAoISp5q5gW"
      },
      "outputs": [],
      "source": [
        "agent = initialize_agent(\n",
        "    tools,\n",
        "    llm,\n",
        "    agent=AgentType.ZERO_SHOT_REACT_DESCRIPTION,\n",
        "    verbose=True,\n",
        "    agent_kwargs=agent_kwargs,\n",
        "    memory=agent_memory,\n",
        "    max_execution_time=1,\n",
        "    early_stopping_method=\"generate\",\n",
        ")"
      ]
    },
    {
      "cell_type": "code",
      "execution_count": null,
      "metadata": {
        "id": "A6E7V2QnrG5B"
      },
      "outputs": [],
      "source": [
        "agent.run(\"반도체 시장에서 우려되는 점 알려주세요.\")"
      ]
    },
    {
      "cell_type": "code",
      "execution_count": null,
      "metadata": {
        "id": "bxIANCeErX0x"
      },
      "outputs": [],
      "source": [
        "response = agent(\n",
        "    {\n",
        "        \"input\": \"2024년 반도체 시장의 전망과 예측\"\n",
        "    }\n",
        ")"
      ]
    },
    {
      "cell_type": "code",
      "execution_count": null,
      "metadata": {
        "id": "WZvgWeIHrfqu"
      },
      "outputs": [],
      "source": [
        "source_documents = retriever.get_relevant_documents(\n",
        "    \"2024년 반도체 시장의 전망과 예측\"\n",
        ")"
      ]
    },
    {
      "cell_type": "code",
      "execution_count": null,
      "metadata": {
        "id": "ToXuHaABrpju"
      },
      "outputs": [],
      "source": [
        "# print(extract_result())\n",
        "\n",
        "for i in range(len(source_documents)):\n",
        "  #print(source_documents[i].page_content[0:100])\n",
        "  print(source_documents[i].metadata)"
      ]
    }
  ],
  "metadata": {
    "colab": {
      "private_outputs": true,
      "provenance": [],
      "toc_visible": true
    },
    "kernelspec": {
      "display_name": "Python 3",
      "name": "python3"
    },
    "language_info": {
      "name": "python"
    }
  },
  "nbformat": 4,
  "nbformat_minor": 0
}
