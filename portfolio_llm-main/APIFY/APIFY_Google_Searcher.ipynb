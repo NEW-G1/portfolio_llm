{
  "cells": [
    {
      "cell_type": "code",
      "execution_count": null,
      "metadata": {
        "colab": {
          "base_uri": "https://localhost:8080/"
        },
        "id": "rsDit5Kv_U1-",
        "outputId": "0305c201-5875-4423-daaa-266e3579c25d"
      },
      "outputs": [],
      "source": [
        "!pip install cohere tiktoken langchainhub langchain openai chromadb apify-client"
      ]
    },
    {
      "cell_type": "markdown",
      "metadata": {
        "id": "ULI7jOl-TCt-"
      },
      "source": [
        "# APIFY Google Search result scraper"
      ]
    },
    {
      "cell_type": "code",
      "execution_count": null,
      "metadata": {},
      "outputs": [],
      "source": [
        "import os\n",
        "\n",
        "os.environ[\"APIFY_API_TOKEN\"] = \"APIFY_API_TOKEN\""
      ]
    },
    {
      "cell_type": "code",
      "execution_count": null,
      "metadata": {
        "colab": {
          "base_uri": "https://localhost:8080/"
        },
        "id": "TYdmutYuTKmK",
        "outputId": "7c6995ec-77d7-475b-adda-b127d0ff4248"
      },
      "outputs": [],
      "source": [
        "from apify_client import ApifyClient\n",
        "\n",
        "# Initialize the ApifyClient with your API token\n",
        "client = ApifyClient(os.getenv(\"APIFY_API_TOKEN\"))\n",
        "\n",
        "# Prepare the Actor input\n",
        "run_input = {\n",
        "    \"queries\": \"2024년 한국 반도체 시장의 전망\",\n",
        "    \"maxPagesPerQuery\": 1,\n",
        "    \"resultsPerPage\": 100,\n",
        "    \"customDataFunction\": \"\"\"async ({ input, $, request, response, html }) => {\n",
        "  return {\n",
        "    pageTitle: $('title').text(),\n",
        "  };\n",
        "};\"\"\",\n",
        "}\n",
        "\n",
        "# Run the Actor and wait for it to finish\n",
        "run = client.actor(\"apify/google-search-scraper\").call(run_input=run_input)\n",
        "\n",
        "# Fetch and print Actor results from the run's dataset (if there are any)\n",
        "for item in client.dataset(run[\"defaultDatasetId\"]).iterate_items():\n",
        "    print(item)"
      ]
    },
    {
      "cell_type": "code",
      "execution_count": null,
      "metadata": {
        "colab": {
          "base_uri": "https://localhost:8080/"
        },
        "id": "b_Rxd4GhWIg2",
        "outputId": "d49f94e3-394b-4727-9f51-9d9daf97b1e4"
      },
      "outputs": [],
      "source": [
        "client.dataset(run[\"defaultDatasetId\"])."
      ]
    },
    {
      "cell_type": "code",
      "execution_count": null,
      "metadata": {
        "colab": {
          "base_uri": "https://localhost:8080/"
        },
        "id": "ITND5ozRUbug",
        "outputId": "bec82245-8e59-4c3d-e03e-7dc708acfad0"
      },
      "outputs": [],
      "source": []
    },
    {
      "cell_type": "code",
      "execution_count": null,
      "metadata": {
        "id": "YqvvCncl_Zf0"
      },
      "outputs": [],
      "source": [
        "from langchain.document_loaders import WebBaseLoader\n",
        "from langchain.embeddings.openai import OpenAIEmbeddings\n",
        "from langchain.text_splitter import CharacterTextSplitter\n",
        "from langchain.vectorstores import Chroma\n",
        "from langchain.chains import RetrievalQA\n",
        "from langchain.chains.question_answering import load_qa_chain"
      ]
    },
    {
      "cell_type": "code",
      "execution_count": null,
      "metadata": {
        "id": "eqN4Qt0nFdId"
      },
      "outputs": [],
      "source": [
        "url_list = [\n",
        "    'https://www.digitaltoday.co.kr/news/articleView.html?idxno=487479',\n",
        "    'https://m.ddaily.co.kr/page/view/2023091211081680819',\n",
        "    'https://news.mt.co.kr/mtview.php?no=2023101214124899784',\n",
        "    'https://www.thelec.kr/news/articleView.html?idxno=23442',\n",
        "    'https://www.the-stock.kr/news/articleView.html?idxno=18909',\n",
        "    'https://zdnet.co.kr/view/?no=20231115083845'\n",
        "]"
      ]
    },
    {
      "cell_type": "code",
      "execution_count": null,
      "metadata": {
        "id": "QArJUpUa_o0-"
      },
      "outputs": [],
      "source": [
        "loader = WebBaseLoader(url_list)"
      ]
    },
    {
      "cell_type": "code",
      "execution_count": null,
      "metadata": {
        "id": "k3MDI-B_ANFr"
      },
      "outputs": [],
      "source": [
        "try:\n",
        "  data = loader.load()\n",
        "except Exception as e:\n",
        "  #except발생하는 애들 그냥 무시(이래도 됨)\n",
        "  pass"
      ]
    },
    {
      "cell_type": "code",
      "execution_count": null,
      "metadata": {
        "colab": {
          "base_uri": "https://localhost:8080/"
        },
        "id": "fryWgtDSBk_U",
        "outputId": "9a2f58fb-341b-40da-e62d-cb1493cf2a13"
      },
      "outputs": [],
      "source": [
        "len(data)"
      ]
    },
    {
      "cell_type": "code",
      "execution_count": null,
      "metadata": {
        "colab": {
          "base_uri": "https://localhost:8080/"
        },
        "id": "UAIlgSkEDPz-",
        "outputId": "5bf60b40-e4cb-4d65-b242-c725887fb252"
      },
      "outputs": [],
      "source": [
        "len(data[0].page_content)"
      ]
    },
    {
      "cell_type": "code",
      "execution_count": null,
      "metadata": {
        "id": "VRuZR7zaCjOd"
      },
      "outputs": [],
      "source": [
        "import re\n",
        "\n",
        "# 정규식을 사용하여 \\n 및 \\t를 제거하는 함수\n",
        "def remove_newline_tab(text):\n",
        "    return re.sub(r'\\n|\\t', '', text)\n",
        "\n",
        "def create_new_doc():\n",
        "  # 데이터의 각 Document에 대해 page_content에 대한 정규식 적용\n",
        "  for document in data:\n",
        "      document.page_content = remove_newline_tab(document.page_content)\n"
      ]
    },
    {
      "cell_type": "code",
      "execution_count": null,
      "metadata": {
        "id": "AAnLhOsPAOLh"
      },
      "outputs": [],
      "source": [
        "create_new_doc()"
      ]
    },
    {
      "cell_type": "code",
      "execution_count": null,
      "metadata": {
        "colab": {
          "base_uri": "https://localhost:8080/"
        },
        "id": "8fChkG1cA3Z6",
        "outputId": "d16f30cd-9220-439d-da5e-2b36ef7016c9"
      },
      "outputs": [],
      "source": [
        "data"
      ]
    },
    {
      "cell_type": "code",
      "execution_count": null,
      "metadata": {
        "id": "xO9WhcKWN0pJ"
      },
      "outputs": [],
      "source": [
        "import os\n",
        "os.environ[\"OPENAI_API_KEY\"] = \"OPENAI_API_KEY\"\n",
        "os.environ[\"SERPAPI_API_KEY\"] = \"YOUR SERPAPI_KEY\""
      ]
    },
    {
      "cell_type": "code",
      "execution_count": null,
      "metadata": {
        "id": "Gvfycr_9N27w"
      },
      "outputs": [],
      "source": [
        "# LLM\n",
        "from langchain.chat_models import ChatOpenAI\n",
        "\n",
        "# ChatGPT 모델 지정\n",
        "#llm = ChatOpenAI(model_name=\"gpt-4-0613\", temperature=0)\n",
        "llm = ChatOpenAI(model_name='gpt-3.5-turbo-1106',temperature=0)"
      ]
    },
    {
      "cell_type": "code",
      "execution_count": null,
      "metadata": {
        "id": "Bx-JYgvpOV_P"
      },
      "outputs": [],
      "source": [
        "# Vectorstore\n",
        "vectordb = Chroma(\n",
        "    embedding_function=OpenAIEmbeddings(), persist_directory=\"./chroma_wonik_testxxxx\"\n",
        ")"
      ]
    },
    {
      "cell_type": "code",
      "execution_count": null,
      "metadata": {
        "id": "Gx4kHsnTPPPD"
      },
      "outputs": [],
      "source": [
        "from langchain.text_splitter import CharacterTextSplitter\n",
        "\n",
        "text_splitter = CharacterTextSplitter(chunk_size=800, chunk_overlap=200)\n",
        "texts = text_splitter.split_documents(data)\n"
      ]
    },
    {
      "cell_type": "code",
      "execution_count": null,
      "metadata": {
        "id": "1uJyEuryP5ZN"
      },
      "outputs": [],
      "source": [
        "embeddings = OpenAIEmbeddings()\n",
        "# Chroma DB 에 저장\n",
        "db = Chroma.from_documents(texts, embeddings)"
      ]
    },
    {
      "cell_type": "code",
      "execution_count": null,
      "metadata": {
        "id": "_4AP2_JGQliU"
      },
      "outputs": [],
      "source": [
        "# query it\n",
        "query = \"2024년 한국 반도체 업계 전망\"\n",
        "docs = db.similarity_search(query,k=2)"
      ]
    },
    {
      "cell_type": "code",
      "execution_count": null,
      "metadata": {
        "id": "eoW5NEyTQv9A"
      },
      "outputs": [],
      "source": [
        "chain = load_qa_chain(llm=llm, chain_type=\"stuff\")"
      ]
    },
    {
      "cell_type": "code",
      "execution_count": null,
      "metadata": {
        "colab": {
          "base_uri": "https://localhost:8080/",
          "height": 54
        },
        "id": "sBsqC0EfSFJA",
        "outputId": "bc63f764-b79a-4d30-85c7-f6d9e5f8a62e"
      },
      "outputs": [],
      "source": [
        "chain.run(input_documents=docs, question=query)"
      ]
    }
  ],
  "metadata": {
    "colab": {
      "provenance": []
    },
    "kernelspec": {
      "display_name": "Python 3",
      "name": "python3"
    },
    "language_info": {
      "name": "python"
    }
  },
  "nbformat": 4,
  "nbformat_minor": 0
}
