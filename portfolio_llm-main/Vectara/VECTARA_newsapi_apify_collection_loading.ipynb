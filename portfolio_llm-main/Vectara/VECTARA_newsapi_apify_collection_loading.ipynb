{
  "cells": [
    {
      "cell_type": "code",
      "execution_count": null,
      "metadata": {
        "colab": {
          "base_uri": "https://localhost:8080/"
        },
        "id": "87khi-Xxer3p",
        "outputId": "b2019956-c2f5-4f72-ed0f-22d2a722be3b"
      },
      "outputs": [],
      "source": [
        "!pip install newsapi-python requests tiktoken cohere openai pinecone-client langchain playwright beautifulsoup4 html2text apify-client"
      ]
    },
    {
      "cell_type": "markdown",
      "metadata": {
        "id": "MI-hDlyxzzJx"
      },
      "source": [
        "###1.IMPORT LIBRARY"
      ]
    },
    {
      "cell_type": "code",
      "execution_count": null,
      "metadata": {
        "id": "LQpZkxZvewnd"
      },
      "outputs": [],
      "source": [
        "import os\n",
        "import requests\n",
        "import json\n",
        "\n",
        "from langchain.embeddings.openai import OpenAIEmbeddings\n",
        "from langchain.text_splitter import CharacterTextSplitter\n",
        "from langchain.document_loaders.base import Document\n",
        "from langchain.indexes import VectorstoreIndexCreator\n",
        "from langchain.utilities import ApifyWrapper\n",
        "from langchain.text_splitter import RecursiveCharacterTextSplitter\n",
        "from langchain.vectorstores import Vectara\n",
        "from langchain.memory import ConversationBufferMemory\n",
        "from langchain.chat_models import ChatOpenAI\n",
        "from langchain.schema.runnable import RunnablePassthrough\n",
        "from langchain.prompts import ChatPromptTemplate\n",
        "from langchain.schema.output_parser import StrOutputParser"
      ]
    },
    {
      "cell_type": "markdown",
      "metadata": {
        "id": "bsqSgEms0fqq"
      },
      "source": [
        "###2.KEY SETTINGS"
      ]
    },
    {
      "cell_type": "code",
      "execution_count": null,
      "metadata": {
        "id": "ykvd0qStezTj"
      },
      "outputs": [],
      "source": [
        "# Create a variable to hold the API key\n",
        "os.environ[\"NEWS_API_KEY\"]        = \"NEWS_API_KEY\"\n",
        "os.environ[\"OPENAI_API_KEY\"]      = \"OPENAI_API_KEY\"\n",
        "os.environ[\"VECTARA_CUSTOMER_ID\"] = \"VECTARA_CUSTOMER_ID\"\n",
        "os.environ[\"VECTARA_CORPUS_ID\"]   = \"VECTARA_CORPUS_ID\"\n",
        "os.environ[\"VECTARA_API_KEY\"]     = \"VECTARA_API_KEY\"\n",
        "\n",
        "# Create a variable to hold the API key\n",
        "headers = {'Authorization': os.getenv(\"NEWS_API_KEY\")}"
      ]
    },
    {
      "cell_type": "markdown",
      "metadata": {
        "id": "rF3l2ulzA5qr"
      },
      "source": [
        "###3.NEWSAPI Running"
      ]
    },
    {
      "cell_type": "code",
      "execution_count": null,
      "metadata": {
        "id": "caYOlII_Uw1k"
      },
      "outputs": [],
      "source": [
        "# create 2 variables to hold the API endpoints.\n",
        "everything = \"https://newsapi.org/v2/everything?\""
      ]
    },
    {
      "cell_type": "code",
      "execution_count": null,
      "metadata": {
        "id": "sRumiSQEdkcs"
      },
      "outputs": [],
      "source": [
        "# create 미국꺼\n",
        "keywords_en = 'semiconductor AND (market OR forecast OR outlook OR insight OR predict OR status)'"
      ]
    },
    {
      "cell_type": "code",
      "execution_count": null,
      "metadata": {
        "id": "QiNwG_SZEEql"
      },
      "outputs": [],
      "source": [
        "# create 한국꺼\n",
        "keywords_kr = '반도체 AND (시장 OR 예측 OR 전망 OR 현황)'"
      ]
    },
    {
      "cell_type": "code",
      "execution_count": null,
      "metadata": {
        "id": "apO9eUwOduyn"
      },
      "outputs": [],
      "source": [
        "sources = ['Engadget', 'Techmeme','Slashdot','financial-post', 'google-news',\n",
        "           'reuters','nbc-news', 'techcrunch', 'the-wall-street-journal']"
      ]
    },
    {
      "cell_type": "code",
      "execution_count": null,
      "metadata": {
        "id": "TArvb6BpUBSz"
      },
      "outputs": [],
      "source": [
        "#Links 지정\n",
        "domains = [\"LINKS\"]"
      ]
    },
    {
      "cell_type": "code",
      "execution_count": null,
      "metadata": {
        "id": "TO6OB04fLGFD"
      },
      "outputs": [],
      "source": [
        "#excludeDomains = ['biztoc.com','techmeme.com']"
      ]
    },
    {
      "cell_type": "code",
      "execution_count": null,
      "metadata": {
        "id": "SLSiZ8hBdzxe"
      },
      "outputs": [],
      "source": [
        "sortby = \"relevancy\"    #relevancy/popularity"
      ]
    },
    {
      "cell_type": "code",
      "execution_count": null,
      "metadata": {
        "id": "OACECXLZCGCX"
      },
      "outputs": [],
      "source": [
        "searchin = 'title,description'"
      ]
    },
    {
      "cell_type": "code",
      "execution_count": null,
      "metadata": {
        "id": "CUtRKGRdd2YW"
      },
      "outputs": [],
      "source": [
        "#'excludeDomains':excludeDomains,\n",
        "params= {\n",
        "        'q': keywords_en,\n",
        "        'apiKey': os.getenv(\"NEWS_API_KEY\"),\n",
        "        'sortBy': sortby,\n",
        "        'searchin':searchin,\n",
        "        }"
      ]
    },
    {
      "cell_type": "code",
      "execution_count": null,
      "metadata": {
        "id": "h0yl4pJXea9v"
      },
      "outputs": [],
      "source": [
        "response = requests.get(url=everything, headers=headers, params=params)"
      ]
    },
    {
      "cell_type": "code",
      "execution_count": null,
      "metadata": {
        "id": "CjWG2uIyecaN"
      },
      "outputs": [],
      "source": [
        "output = response.json()"
      ]
    },
    {
      "cell_type": "code",
      "execution_count": null,
      "metadata": {
        "id": "XL5XirEHegnE"
      },
      "outputs": [],
      "source": [
        "article_urls = [article[\"url\"] for article in output[\"articles\"]]"
      ]
    },
    {
      "cell_type": "markdown",
      "metadata": {
        "id": "aO4kSvqzBEz3"
      },
      "source": [
        "###3-1.NEWSAPI Result"
      ]
    },
    {
      "cell_type": "code",
      "execution_count": null,
      "metadata": {
        "colab": {
          "base_uri": "https://localhost:8080/"
        },
        "id": "1ceNOKgGchAl",
        "outputId": "91a94882-f8ea-466b-ddd4-81c6c0dd3158"
      },
      "outputs": [],
      "source": [
        "article_urls"
      ]
    },
    {
      "cell_type": "markdown",
      "metadata": {
        "id": "1uZcWRzoDY78"
      },
      "source": [
        "###4.INITIALIZE VECTARA"
      ]
    },
    {
      "cell_type": "code",
      "execution_count": null,
      "metadata": {
        "id": "SBoARJU1DTNW"
      },
      "outputs": [],
      "source": [
        "vectara = Vectara(\n",
        "    vectara_customer_id = os.getenv(\"VECTARA_CUSTOMER_ID\"),\n",
        "    vectara_corpus_id   = os.getenv(\"VECTARA_CORPUS_ID\"),\n",
        "    vectara_api_key     = os.getenv(\"VECTARA_API_KEY\")\n",
        ")"
      ]
    },
    {
      "cell_type": "markdown",
      "metadata": {
        "id": "h-h1VXN-SP8U"
      },
      "source": [
        "#NEWSAPI - APIFY - CHATGPT - VECTARA"
      ]
    },
    {
      "cell_type": "markdown",
      "metadata": {
        "id": "emAQ-x5_-Y8r"
      },
      "source": [
        "###5.APIFY Web Contents Crawling"
      ]
    },
    {
      "cell_type": "code",
      "execution_count": null,
      "metadata": {
        "id": "iMr5VBBX-VdL"
      },
      "outputs": [],
      "source": [
        "# Initialize the ApifyClient with your API token\n",
        "apify = ApifyWrapper()\n",
        "# 10개 => 연결 페이지 스크래핑\n",
        "\n",
        "urls = article_urls[:10]\n",
        "\n",
        "startUrls = [{\"url\": url} for url in urls]\n",
        "\n",
        "#print(startUrls)\n",
        "\n",
        "# Prepare the Actor input\n",
        "run_input = {\n",
        "    \"startUrls\": startUrls,\n",
        "    \"includeUrlGlobs\": [],\n",
        "    \"excludeUrlGlobs\": [],\n",
        "    \"initialCookies\": [],\n",
        "    \"proxyConfiguration\": { \"useApifyProxy\": True },\n",
        "    \"removeElementsCssSelector\": \"\"\"nav, footer, script, style, noscript, svg,\n",
        "[role=\\\"alert\\\"],\n",
        "[role=\\\"banner\\\"],\n",
        "[role=\\\"dialog\\\"],\n",
        "[role=\\\"alertdialog\\\"],\n",
        "[role=\\\"region\\\"][aria-label*=\\\"skip\\\" i],\n",
        "[aria-modal=\\\"true\\\"]\"\"\",\n",
        "    \"clickElementsCssSelector\": \"[aria-expanded=\\\"false\\\"]\",\n",
        "}\n",
        "\n",
        "# Run the Actor and wait for it to finish\n",
        "loader = apify.call_actor(\n",
        "    actor_id=\"apify/website-content-crawler\",\n",
        "    run_input=run_input,\n",
        "    dataset_mapping_function=lambda item: Document(\n",
        "        page_content=item[\"text\"] or \"\", metadata={\"source\": item[\"url\"]}\n",
        "    ),\n",
        ")"
      ]
    },
    {
      "cell_type": "code",
      "execution_count": null,
      "metadata": {
        "id": "eWS3fcjO-W23"
      },
      "outputs": [],
      "source": [
        "documents = loader.load()"
      ]
    },
    {
      "cell_type": "markdown",
      "metadata": {
        "id": "zJTqZl-FBkOu"
      },
      "source": [
        "###6.VECTARA DATA 저장"
      ]
    },
    {
      "cell_type": "code",
      "execution_count": null,
      "metadata": {
        "id": "Rwafr7yU-d-j"
      },
      "outputs": [],
      "source": [
        "vectorstore = Vectara.from_documents(documents, embedding=None)"
      ]
    },
    {
      "cell_type": "code",
      "execution_count": null,
      "metadata": {
        "id": "QKAj8ZBAHCNq"
      },
      "outputs": [],
      "source": [
        "memory = ConversationBufferMemory(memory_key=\"chat_history\", return_messages=True)"
      ]
    },
    {
      "cell_type": "code",
      "execution_count": null,
      "metadata": {
        "id": "EIiv0brl7fav"
      },
      "outputs": [],
      "source": [
        "retriever = vectorstore.as_retriever(lambda_val=0.025, k=5, filter=None)"
      ]
    },
    {
      "cell_type": "code",
      "execution_count": null,
      "metadata": {
        "id": "z30qPau0Q-rY"
      },
      "outputs": [],
      "source": [
        "from langchain.chat_models import ChatOpenAI\n",
        "from langchain.schema.runnable import RunnablePassthrough\n",
        "from langchain.prompts import ChatPromptTemplate\n",
        "from langchain.schema.output_parser import StrOutputParser"
      ]
    },
    {
      "cell_type": "code",
      "execution_count": null,
      "metadata": {
        "id": "bT7FznPkQ-rZ"
      },
      "outputs": [],
      "source": [
        "template = \"\"\"\n",
        "SYSTEM\n",
        "You are an expert researcher and writer, tasked with answering any question.\n",
        "Generate a comprehensive and informative, yet concise answer of 250 words or less for the given question based solely on the provided search results (URL and content).\n",
        "You must only use information from the provided search results. Use an unbiased and journalistic tone. Combine search results together into a coherent answer.\n",
        "Do not repeat text. Cite search results using [${{number}}] notation. Only cite the most relevant results that answer the question accurately.\n",
        "Place these citations at the end of the sentence or paragraph that reference them - do not put them all at the end.\n",
        "If different results refer to different entities within the same name, write separate answers for each entity.\n",
        "If you want to cite multiple results for the same sentence, format it as `[${{number1}}] [${{number2}}]`.\n",
        "However, you should NEVER do this with the same number - if you want to cite `number1` multiple times for a sentence, only do `[${{number1}}]` not `[${{number1}}] [${{number1}}]`\n",
        "You should use bullet points in your answer for readability. Put citations where they apply rather than putting them all at the end.\n",
        "If there is nothing in the context relevant to the question at hand, just say \"Hmm, I'm not sure.\" Don't try to make up an answer.\n",
        "Anything between the following `context` html blocks is retrieved from a knowledge bank, not part of the conversation with the user.\n",
        "You must answer in Korean.\n",
        "\n",
        "<context>\n",
        "    {context}\n",
        "<context/>\n",
        "\n",
        "HUMAN\n",
        "{question}\n",
        "  \"\"\"\n",
        "prompt = ChatPromptTemplate.from_template(template)"
      ]
    },
    {
      "cell_type": "code",
      "execution_count": null,
      "metadata": {
        "id": "jouF7y-TAwiH"
      },
      "outputs": [],
      "source": [
        "llm = ChatOpenAI(temperature=0, model_name=\"gpt-3.5-turbo-16k\")"
      ]
    },
    {
      "cell_type": "code",
      "execution_count": null,
      "metadata": {
        "id": "FO_Cf66aQ-rZ"
      },
      "outputs": [],
      "source": [
        "retrieval_chain = (\n",
        "      {\"context\": retriever, \"question\": RunnablePassthrough()}\n",
        "      | prompt\n",
        "      | llm\n",
        "      | StrOutputParser()\n",
        "  )"
      ]
    },
    {
      "cell_type": "code",
      "execution_count": null,
      "metadata": {
        "colab": {
          "base_uri": "https://localhost:8080/",
          "height": 91
        },
        "id": "Txx-yrmQQ-rZ",
        "outputId": "5894d9f2-231b-4dfe-ef8a-fa17d5884d16"
      },
      "outputs": [],
      "source": [
        "retrieval_chain.invoke(\"What about the silicon/wafer market?\")"
      ]
    },
    {
      "cell_type": "code",
      "execution_count": null,
      "metadata": {
        "colab": {
          "base_uri": "https://localhost:8080/",
          "height": 146
        },
        "id": "HQFD89fSRLCH",
        "outputId": "6a8d7de5-c88c-4c5a-8489-8d5be7a07a73"
      },
      "outputs": [],
      "source": [
        "retrieval_chain.invoke(\"세계 반도체 산업의 현황을 알고싶다.\")"
      ]
    },
    {
      "cell_type": "code",
      "execution_count": null,
      "metadata": {
        "colab": {
          "base_uri": "https://localhost:8080/",
          "height": 122
        },
        "id": "K-TIzdn4Rg76",
        "outputId": "43fa8891-64cb-4fe7-fdf1-4d524480dc6b"
      },
      "outputs": [],
      "source": [
        "retrieval_chain.invoke(\"I want to know the current status of the global semiconductor industry.\")"
      ]
    }
  ],
  "metadata": {
    "colab": {
      "provenance": []
    },
    "kernelspec": {
      "display_name": "Python 3",
      "name": "python3"
    },
    "language_info": {
      "name": "python"
    }
  },
  "nbformat": 4,
  "nbformat_minor": 0
}
