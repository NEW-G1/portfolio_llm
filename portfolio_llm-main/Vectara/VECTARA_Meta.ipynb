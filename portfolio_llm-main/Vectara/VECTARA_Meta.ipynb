{
  "cells": [
    {
      "cell_type": "code",
      "execution_count": null,
      "metadata": {
        "id": "FYANx_rAwYB5"
      },
      "outputs": [],
      "source": [
        "!pip install pycoingecko requests tiktoken cohere openai pinecone-client langchain apify-client langchainhub pymupdf lark"
      ]
    },
    {
      "cell_type": "code",
      "execution_count": null,
      "metadata": {
        "id": "2pDO0p-hwnYs"
      },
      "outputs": [],
      "source": [
        "import os\n",
        "\n",
        "os.environ[\"APIFY_API_TOKEN\"]   = \"APIFY_API_TOKEN\"\n",
        "os.environ[\"OPENAI_API_KEY\"] = \"OPENAI_API_KEY\"\n",
        "\n",
        "os.environ[\"VECTARA_CUSTOMER_ID\"] = \"VECTARA_CUSTOMER_ID\"\n",
        "os.environ[\"VECTARA_CORPUS_ID\"] = \"VECTARA_CORPUS_ID\"\n",
        "os.environ[\"VECTARA_API_KEY\"] = \"VECTARA_API_KEY\""
      ]
    },
    {
      "cell_type": "code",
      "execution_count": null,
      "metadata": {
        "id": "sopWgvOJw6qy"
      },
      "outputs": [],
      "source": [
        "import numpy as np\n",
        "import datetime as dt\n",
        "import openai\n",
        "import re\n",
        "import time\n",
        "import pinecone"
      ]
    },
    {
      "cell_type": "markdown",
      "metadata": {
        "id": "9ydb5FETyhhh"
      },
      "source": [
        "# Step 2 - Import Data"
      ]
    },
    {
      "cell_type": "markdown",
      "metadata": {
        "id": "p9giFl85yj2X"
      },
      "source": [
        "## Data Source 1/3: APIFY Google Search Result"
      ]
    },
    {
      "cell_type": "code",
      "execution_count": null,
      "metadata": {
        "id": "Odrh2fFlKndE"
      },
      "outputs": [],
      "source": [
        "queries = \"Semiconductor education in Korea\""
      ]
    },
    {
      "cell_type": "code",
      "execution_count": null,
      "metadata": {
        "id": "fDRRJtU8w7bt"
      },
      "outputs": [],
      "source": [
        "from apify_client import ApifyClient\n",
        "\n",
        "# Initialize the ApifyClient with your API token\n",
        "client = ApifyClient(os.getenv(\"APIFY_API_TOKEN\"))\n",
        "\n",
        "# Prepare the Actor input\n",
        "run_input = {\n",
        "    \"queries\": queries,\n",
        "    \"maxPagesPerQuery\": 1,\n",
        "    \"resultsPerPage\": 100,\n",
        "    \"customDataFunction\": \"\"\"async ({ input, $, request, response, html }) => {\n",
        "  return {\n",
        "    pageTitle: $('title').text(),\n",
        "  };\n",
        "};\"\"\",\n",
        "}\n",
        "\n",
        "# Run the Actor and wait for it to finish\n",
        "run = client.actor(\"apify/google-search-scraper\").call(run_input=run_input)\n",
        "\n",
        "# Fetch and print Actor results from the run's dataset (if there are any)\n",
        "loader = client.dataset(run[\"defaultDatasetId\"]).iterate_items()"
      ]
    },
    {
      "cell_type": "code",
      "execution_count": null,
      "metadata": {
        "id": "P8qJPrNExrY4"
      },
      "outputs": [],
      "source": [
        "temp = list()\n",
        "results = list()\n",
        "\n",
        "for i in loader:\n",
        "  temp.append(i)\n",
        "\n",
        "print(temp)"
      ]
    },
    {
      "cell_type": "code",
      "execution_count": null,
      "metadata": {
        "id": "ZDE-ldBEx3G5"
      },
      "outputs": [],
      "source": [
        "data = temp[0]['organicResults']"
      ]
    },
    {
      "cell_type": "code",
      "execution_count": null,
      "metadata": {
        "id": "R0Fnv43rSiBs"
      },
      "outputs": [],
      "source": [
        "data"
      ]
    },
    {
      "cell_type": "code",
      "execution_count": null,
      "metadata": {
        "id": "MM2omTfWx5Km"
      },
      "outputs": [],
      "source": [
        "# dates = [result.get('date') for result in temp[0]['organicResults'] if 'date' in result]"
      ]
    },
    {
      "cell_type": "code",
      "execution_count": null,
      "metadata": {
        "id": "oABo2MmFS8u_"
      },
      "outputs": [],
      "source": [
        "# print(dates)"
      ]
    },
    {
      "cell_type": "code",
      "execution_count": null,
      "metadata": {
        "id": "XDi4VAtcx6I7"
      },
      "outputs": [],
      "source": [
        "from datetime import datetime"
      ]
    },
    {
      "cell_type": "code",
      "execution_count": null,
      "metadata": {
        "id": "Pz6-PwvTyBBf"
      },
      "outputs": [],
      "source": [
        "#2023년 데이터만\n",
        "filtered_data = [item for item in data if 'date' in item and datetime.fromisoformat(item['date'][:-1]).year == 2023]"
      ]
    },
    {
      "cell_type": "code",
      "execution_count": null,
      "metadata": {
        "id": "RY89AKdPyCXn"
      },
      "outputs": [],
      "source": [
        "urls = []\n",
        "dates = []\n",
        "for item in filtered_data:\n",
        "  urls.append(item['url'])\n",
        "  dates.append(item['date'])"
      ]
    },
    {
      "cell_type": "code",
      "execution_count": null,
      "metadata": {
        "id": "QOyphnlcUUCs"
      },
      "outputs": [],
      "source": [
        "urls"
      ]
    },
    {
      "cell_type": "code",
      "execution_count": null,
      "metadata": {
        "id": "KjO-UC4cUQdr"
      },
      "outputs": [],
      "source": [
        "dates"
      ]
    },
    {
      "cell_type": "markdown",
      "metadata": {
        "id": "slnLr_CDyvCf"
      },
      "source": [
        "## Data Source 2/3:APIFY Web Contents Crawling"
      ]
    },
    {
      "cell_type": "code",
      "execution_count": null,
      "metadata": {
        "id": "pQ-R5pFIyFLr"
      },
      "outputs": [],
      "source": [
        "from langchain.utilities import ApifyWrapper\n",
        "from langchain.document_loaders.base import Document\n",
        "import os\n",
        "\n",
        "# Initialize the ApifyClient with your API token\n",
        "apify = ApifyWrapper()\n",
        "\n",
        "startUrls = [{\"url\": url} for url in urls]\n",
        "\n",
        "#print(startUrls)\n",
        "\n",
        "# Prepare the Actor input\n",
        "run_input = {\n",
        "    \"startUrls\": startUrls,\n",
        "    \"includeUrlGlobs\": [],\n",
        "    \"excludeUrlGlobs\": [],\n",
        "    \"initialCookies\": [],\n",
        "    \"proxyConfiguration\": { \"useApifyProxy\": True },\n",
        "    \"removeElementsCssSelector\": \"\"\"nav, footer, script, style, noscript, svg,\n",
        "[role=\\\"alert\\\"],\n",
        "[role=\\\"banner\\\"],\n",
        "[role=\\\"dialog\\\"],\n",
        "[role=\\\"alertdialog\\\"],\n",
        "[role=\\\"region\\\"][aria-label*=\\\"skip\\\" i],\n",
        "[aria-modal=\\\"true\\\"]\"\"\",\n",
        "    \"clickElementsCssSelector\": \"[aria-expanded=\\\"false\\\"]\",\n",
        "}\n",
        "\n",
        "# Run the Actor and wait for it to finish\n",
        "loader = apify.call_actor(\n",
        "    actor_id=\"apify/website-content-crawler\",\n",
        "    run_input=run_input,\n",
        "    dataset_mapping_function=lambda item: Document(\n",
        "        page_content=item[\"text\"] or \"\", metadata={\"source\": item[\"url\"], \"date\": item[\"date\"]}\n",
        "    ),\n",
        ")"
      ]
    },
    {
      "cell_type": "markdown",
      "metadata": {
        "id": "wryx9tp4y41L"
      },
      "source": [
        "## Data Source 3/3 - Vectara Initialize"
      ]
    },
    {
      "cell_type": "code",
      "execution_count": null,
      "metadata": {
        "id": "ZDp1RyakySyo"
      },
      "outputs": [],
      "source": [
        "from langchain.vectorstores import Vectara\n",
        "\n",
        "vectara = Vectara(\n",
        "    vectara_customer_id = os.getenv(\"VECTARA_CUSTOMER_ID\"),\n",
        "    vectara_corpus_id   = os.getenv(\"VECTARA_CORPUS_ID\"),\n",
        "    vectara_api_key     = os.getenv(\"VECTARA_API_KEY\")\n",
        ")"
      ]
    },
    {
      "cell_type": "code",
      "execution_count": null,
      "metadata": {
        "id": "rrW_x-lJF3WG"
      },
      "outputs": [],
      "source": [
        "documents = loader.load()"
      ]
    },
    {
      "cell_type": "code",
      "execution_count": null,
      "metadata": {
        "id": "SxgfI7Q7GWI6"
      },
      "outputs": [],
      "source": [
        "documents"
      ]
    },
    {
      "cell_type": "code",
      "execution_count": null,
      "metadata": {
        "id": "QV3csNe7GXlS"
      },
      "outputs": [],
      "source": [
        "vectera = Vectara.from_documents(\n",
        "    documents,\n",
        "    embedding=None,\n",
        "    doc_metadata={\"category\":\"knowledgebase\", \"keyword\":queries}\n",
        ")"
      ]
    },
    {
      "cell_type": "code",
      "execution_count": null,
      "metadata": {
        "id": "AQdQqRE3HREs"
      },
      "outputs": [],
      "source": []
    }
  ],
  "metadata": {
    "colab": {
      "private_outputs": true,
      "provenance": []
    },
    "kernelspec": {
      "display_name": "Python 3",
      "name": "python3"
    },
    "language_info": {
      "name": "python"
    }
  },
  "nbformat": 4,
  "nbformat_minor": 0
}
