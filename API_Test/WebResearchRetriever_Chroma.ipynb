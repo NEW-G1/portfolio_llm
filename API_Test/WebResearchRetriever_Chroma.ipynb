{
  "cells": [
    {
      "cell_type": "code",
      "execution_count": null,
      "metadata": {
        "colab": {
          "base_uri": "https://localhost:8080/"
        },
        "id": "ynQM4TPLVrGc",
        "outputId": "d3007406-795b-4eca-d26b-305ddc003a36"
      },
      "outputs": [],
      "source": [
        "!pip install  tiktoken cohere openai langchain chromadb google-search-results  html2text"
      ]
    },
    {
      "cell_type": "markdown",
      "metadata": {
        "id": "YYMyHuuW-Nio"
      },
      "source": [
        "### 구글api 발행 예시\n",
        "https://littlefoxdiary.tistory.com/116\n",
        "\n",
        "### streamlit 사용 예시\n",
        "https://github.com/langchain-ai/web-explorer/blob/main/web_explorer.py\n",
        "\n",
        "###30개까지 사용 가능\n",
        "## WebResearchRetriever \n",
        "\n",
        "### WebResearchRetriever로 만들어서 크로마에 넣으면서 그걸로 바로 검색함"
      ]
    },
    {
      "cell_type": "code",
      "execution_count": null,
      "metadata": {
        "id": "QAtVy-McfmSA"
      },
      "outputs": [],
      "source": [
        "import os\n",
        "os.environ[\"GOOGLE_API_KEY\"] = \"GOOGLE_API_KEY\"\n",
        "os.environ[\"GOOGLE_CSE_ID\"] = \"GOOGLE_CSE_ID\"\n",
        "os.environ[\"OPENAI_API_KEY\"] = \"OPENAI_API_KEY\"\n"
      ]
    },
    {
      "cell_type": "code",
      "execution_count": null,
      "metadata": {
        "id": "BlVD7v5VdxWJ"
      },
      "outputs": [],
      "source": [
        "from langchain.chat_models.openai import ChatOpenAI\n",
        "from langchain.embeddings import OpenAIEmbeddings\n",
        "from langchain.retrievers.web_research import WebResearchRetriever\n",
        "from langchain.utilities import GoogleSearchAPIWrapper\n",
        "from langchain.vectorstores import Chroma\n",
        "from langchain.chains import LLMChain\n",
        "from langchain.prompts import PromptTemplate\n",
        "\n",
        "import os"
      ]
    },
    {
      "cell_type": "code",
      "execution_count": null,
      "metadata": {
        "id": "0gadswYRd2yv"
      },
      "outputs": [],
      "source": [
        "# Vectorstore\n",
        "vectorstore = Chroma(\n",
        "    embedding_function=OpenAIEmbeddings(), persist_directory=\"./chroma_wonik\"\n",
        ")"
      ]
    },
    {
      "cell_type": "code",
      "execution_count": null,
      "metadata": {
        "id": "iH3fDyPveQEC"
      },
      "outputs": [],
      "source": [
        "# LLM\n",
        "llm = ChatOpenAI(model_name='gpt-3.5-turbo-1106',temperature=0)"
      ]
    },
    {
      "cell_type": "code",
      "execution_count": null,
      "metadata": {
        "id": "OI4MGKiWuX1w"
      },
      "outputs": [],
      "source": [
        "\n",
        "# Search\n",
        "search = GoogleSearchAPIWrapper()"
      ]
    },
    {
      "cell_type": "code",
      "execution_count": null,
      "metadata": {
        "id": "iDyjjZGgf2YR"
      },
      "outputs": [],
      "source": [
        "# Initialize\n",
        "web_research_retriever = WebResearchRetriever.from_llm(\n",
        "    vectorstore=vectorstore,\n",
        "    llm=llm,\n",
        "    search=search,\n",
        "    num_search_results=10,\n",
        "    #prompt = \"first check https://kprofiles.com/minji-newjeans-profile/\"\n",
        ")"
      ]
    },
    {
      "cell_type": "code",
      "execution_count": null,
      "metadata": {
        "id": "QCSPKA0Tkv24"
      },
      "outputs": [],
      "source": [
        "from langchain.chains import RetrievalQAWithSourcesChain\n",
        "\n",
        "qa_chain = RetrievalQAWithSourcesChain.from_chain_type(\n",
        "    llm, retriever=web_research_retriever\n",
        ")"
      ]
    },
    {
      "cell_type": "code",
      "execution_count": null,
      "metadata": {
        "colab": {
          "base_uri": "https://localhost:8080/"
        },
        "id": "cJ0DVLvMm3GC",
        "outputId": "4bec71a1-5708-437d-dc16-7e5617f1e839"
      },
      "outputs": [],
      "source": [
        "user_input = \"랭체인이 무엇인가?\"\n",
        "result = qa_chain({\"question\": user_input})\n",
        "result"
      ]
    },
    {
      "cell_type": "code",
      "execution_count": null,
      "metadata": {
        "id": "60LIHwl0fIDN"
      },
      "outputs": [],
      "source": [
        "docs_test = vectorstore.similarity_search(\"랭체인이란?\")"
      ]
    },
    {
      "cell_type": "code",
      "execution_count": null,
      "metadata": {
        "colab": {
          "base_uri": "https://localhost:8080/"
        },
        "id": "Zn58CuoofVwk",
        "outputId": "c519733a-db4d-43d8-8b99-7107bf629436"
      },
      "outputs": [],
      "source": [
        "docs_test"
      ]
    },
    {
      "cell_type": "markdown",
      "metadata": {
        "id": "C50RMmFRwG00"
      },
      "source": [
        "#Run with logging"
      ]
    },
    {
      "cell_type": "code",
      "execution_count": null,
      "metadata": {
        "colab": {
          "base_uri": "https://localhost:8080/"
        },
        "id": "K7kavVhWwIQL",
        "outputId": "174c51c4-c809-40e0-ea10-5274d8e78bac"
      },
      "outputs": [],
      "source": [
        "# Run\n",
        "import logging\n",
        "\n",
        "logging.basicConfig()\n",
        "logging.getLogger(\"langchain.retrievers.web_research\").setLevel(logging.INFO)\n",
        "user_input = \"빅뱅이론 시리즈는 몇개인가?\"\n",
        "docs = web_research_retriever.get_relevant_documents(user_input)"
      ]
    },
    {
      "cell_type": "code",
      "execution_count": null,
      "metadata": {
        "colab": {
          "base_uri": "https://localhost:8080/"
        },
        "id": "rFIwLVAjPLF1",
        "outputId": "8311ff37-441b-45ca-d645-8f4054be4d99"
      },
      "outputs": [],
      "source": [
        "docs"
      ]
    },
    {
      "cell_type": "code",
      "execution_count": null,
      "metadata": {
        "id": "qv9xeJb4buSr"
      },
      "outputs": [],
      "source": [
        "docs = vectorstore.similarity_search(\"빅뱅이론 시리즈 11 주인공\")"
      ]
    },
    {
      "cell_type": "code",
      "execution_count": null,
      "metadata": {
        "colab": {
          "base_uri": "https://localhost:8080/"
        },
        "id": "E5nmW0zdbzfI",
        "outputId": "c1985f4b-ffdf-4f60-e756-68dd60e4b6ad"
      },
      "outputs": [],
      "source": [
        "docs"
      ]
    },
    {
      "cell_type": "markdown",
      "metadata": {
        "id": "PUypcJoRwewH"
      },
      "source": [
        "#Generate answer using retrieved docs"
      ]
    },
    {
      "cell_type": "code",
      "execution_count": null,
      "metadata": {
        "colab": {
          "base_uri": "https://localhost:8080/",
          "height": 35
        },
        "id": "CX28dGZDwgM-",
        "outputId": "b01966f1-a03e-48ff-c5ce-0cd9eb897abf"
      },
      "outputs": [],
      "source": [
        "from langchain.chains.question_answering import load_qa_chain\n",
        "\n",
        "chain = load_qa_chain(llm, chain_type=\"stuff\")\n",
        "\n",
        "user_input = \"빅뱅이론 셸던 배우 이름\"\n",
        "\n",
        "output = chain(\n",
        "    {\"input_documents\": docs, \"question\": user_input}, return_only_outputs=True\n",
        ")\n",
        "output[\"output_text\"]\n",
        "\n"
      ]
    },
    {
      "cell_type": "markdown",
      "metadata": {
        "id": "BlN0EWwT0Lzn"
      },
      "source": [
        "#LLM Chain - PROMPT"
      ]
    },
    {
      "cell_type": "code",
      "execution_count": null,
      "metadata": {
        "id": "jj2tTZCb1WRq"
      },
      "outputs": [],
      "source": [
        "import os\n",
        "import re\n",
        "from typing import List\n",
        "\n",
        "from langchain.chains import LLMChain\n",
        "from langchain.output_parsers.pydantic import PydanticOutputParser\n",
        "from langchain.prompts import PromptTemplate\n",
        "from pydantic import BaseModel, Field"
      ]
    },
    {
      "cell_type": "code",
      "execution_count": null,
      "metadata": {
        "id": "Jo7FYDbU1Z8D"
      },
      "outputs": [],
      "source": [
        "class LineList(BaseModel):\n",
        "    \"\"\"List of questions.\"\"\"\n",
        "\n",
        "    lines: List[str] = Field(description=\"Questions\")\n",
        "\n",
        "\n",
        "class QuestionListOutputParser(PydanticOutputParser):\n",
        "    \"\"\"Output parser for a list of numbered questions.\"\"\"\n",
        "\n",
        "    def __init__(self) -> None:\n",
        "        super().__init__(pydantic_object=LineList)\n",
        "\n",
        "    def parse(self, text: str) -> LineList:\n",
        "        lines = re.findall(r\"\\d+\\..*?\\n\", text)\n",
        "        return LineList(lines=lines)"
      ]
    },
    {
      "cell_type": "code",
      "execution_count": null,
      "metadata": {
        "id": "ThBVil_X0Py6"
      },
      "outputs": [],
      "source": [
        "# LLMChain\n",
        "search_prompt = PromptTemplate(\n",
        "    input_variables=[\"question\"],\n",
        "    template=\"\"\"You are an assistant tasked with improving Google search\n",
        "    results. Generate FIVE Google search queries that are similar to\n",
        "    this question. The output should be a numbered list of questions and each\n",
        "    should have a question mark at the end: {question}\"\"\",\n",
        ")\n",
        "\n",
        "llm_chain = LLMChain(\n",
        "    llm=llm,\n",
        "    prompt= search_prompt,\n",
        "    output_parser=QuestionListOutputParser(),\n",
        ")"
      ]
    },
    {
      "cell_type": "code",
      "execution_count": null,
      "metadata": {
        "id": "lg84sZpZ0dO5"
      },
      "outputs": [],
      "source": [
        "# Initialize\n",
        "web_research_retriever_llm_chain = WebResearchRetriever(\n",
        "    vectorstore=vectorstore,\n",
        "    llm_chain=llm_chain,\n",
        "    search=search,\n",
        ")"
      ]
    },
    {
      "cell_type": "code",
      "execution_count": null,
      "metadata": {
        "colab": {
          "base_uri": "https://localhost:8080/"
        },
        "id": "okTdRZgy0icZ",
        "outputId": "371bdb3d-b3d8-4bcb-cbe3-94cbaee8d87c"
      },
      "outputs": [],
      "source": [
        "# Run\n",
        "docs = web_research_retriever_llm_chain.get_relevant_documents(\"Financial About Korean\")"
      ]
    },
    {
      "cell_type": "code",
      "execution_count": null,
      "metadata": {
        "colab": {
          "base_uri": "https://localhost:8080/"
        },
        "id": "uwLqbaJh0kYU",
        "outputId": "29ea783d-9896-4ac2-97cb-6901aa5d2886"
      },
      "outputs": [],
      "source": [
        "docs"
      ]
    },
    {
      "cell_type": "code",
      "execution_count": null,
      "metadata": {
        "id": "GNOSmFiq6fPN"
      },
      "outputs": [],
      "source": [
        "docs = vectorstore.similarity_search(\"주가정보\")"
      ]
    },
    {
      "cell_type": "code",
      "execution_count": null,
      "metadata": {
        "colab": {
          "base_uri": "https://localhost:8080/"
        },
        "id": "yzntlpD1N9Um",
        "outputId": "ddb22f64-1e33-4b9b-cd8f-db438c5628d2"
      },
      "outputs": [],
      "source": [
        "docs"
      ]
    },
    {
      "cell_type": "code",
      "execution_count": null,
      "metadata": {
        "colab": {
          "base_uri": "https://localhost:8080/"
        },
        "id": "tTNt58B-6mjo",
        "outputId": "d012a313-12e0-4512-853a-05bbdd7a6144"
      },
      "outputs": [],
      "source": [
        "from langchain.chains import VectorDBQA\n",
        "qa = VectorDBQA.from_chain_type(llm=llm, chain_type=\"stuff\", vectorstore=vectorstore)"
      ]
    },
    {
      "cell_type": "code",
      "execution_count": null,
      "metadata": {
        "colab": {
          "base_uri": "https://localhost:8080/",
          "height": 35
        },
        "id": "dQtB2fi_7d2g",
        "outputId": "de4cc54a-d22d-4e6c-981a-f859f283676f"
      },
      "outputs": [],
      "source": [
        "query = \"What is the financial information for Korea?\"\n",
        "qa.run(query)"
      ]
    }
  ],
  "metadata": {
    "colab": {
      "provenance": []
    },
    "kernelspec": {
      "display_name": "Python 3",
      "name": "python3"
    },
    "language_info": {
      "name": "python"
    }
  },
  "nbformat": 4,
  "nbformat_minor": 0
}
