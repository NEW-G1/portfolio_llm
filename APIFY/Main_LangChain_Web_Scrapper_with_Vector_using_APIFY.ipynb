{
  "cells": [
    {
      "cell_type": "code",
      "execution_count": null,
      "metadata": {
        "colab": {
          "base_uri": "https://localhost:8080/"
        },
        "id": "2y_t0wFdJ4l-",
        "outputId": "4ca5542b-8117-4ff8-f84d-34ee05c7a763"
      },
      "outputs": [],
      "source": [
        "!pip install apify-client chromadb cohere langchainhub openai langchain pypdf faiss-cpu cohere unstructured_pytesseract unstructured_inference tiktoken"
      ]
    },
    {
      "cell_type": "code",
      "execution_count": null,
      "metadata": {
        "id": "FKX5U95WL_RD"
      },
      "outputs": [],
      "source": [
        "import os\n",
        "\n",
        "os.environ[\"OPENAI_API_KEY\"] = \"OPENAI_API_KEY\"\n",
        "os.environ[\"APIFY_API_TOKEN\"] = \"APIFY_API_TOKEN\"\n",
        "os.environ[\"GOOGLE_API_KEY\"] = \"GOOGLE_API_KEY\"\n",
        "os.environ[\"GOOGLE_CSE_ID\"] = \"GOOGLE_CSE_ID\""
      ]
    },
    {
      "cell_type": "markdown",
      "metadata": {
        "id": "UG7pVZg-MaAl"
      },
      "source": [
        "# LLM / Embeddings"
      ]
    },
    {
      "cell_type": "code",
      "execution_count": null,
      "metadata": {
        "id": "bCRFaKknMZWl"
      },
      "outputs": [],
      "source": [
        "from langchain.embeddings.openai import OpenAIEmbeddings\n",
        "from langchain.chat_models.openai import ChatOpenAI\n",
        "\n",
        "embeddings = OpenAIEmbeddings()\n",
        "llm = ChatOpenAI(model_name='gpt-3.5-turbo-16k',temperature=0)"
      ]
    },
    {
      "cell_type": "markdown",
      "metadata": {
        "id": "JViMcAG0LhWx"
      },
      "source": [
        "# Chroma DB"
      ]
    },
    {
      "cell_type": "code",
      "execution_count": null,
      "metadata": {
        "id": "f2qbZ-PRLmcE"
      },
      "outputs": [],
      "source": [
        "from langchain.vectorstores import Chroma\n",
        "\n",
        "vectorstroe = Chroma(\n",
        "    embedding_function = embeddings, persist_directory = \"./chroma_sample33334444344444\"\n",
        ")"
      ]
    },
    {
      "cell_type": "markdown",
      "metadata": {
        "id": "GRAgJGdwJuYX"
      },
      "source": [
        "# APIFY Google Search Result Scrapper"
      ]
    },
    {
      "cell_type": "code",
      "execution_count": null,
      "metadata": {
        "id": "NJqMG5eKJd_C"
      },
      "outputs": [],
      "source": [
        "from apify_client import ApifyClient\n",
        "\n",
        "# Search URL\n",
        "def search_using_apify(api_key, query):\n",
        "  client = ApifyClient(api_key)\n",
        "  actor_name = 'apify/google-search-scraper'\n",
        "  run_input = {\n",
        "    \"queries\": query,\n",
        "    \"maxPagesPerQuery\": 1,\n",
        "    \"resultsPerPage\": 10,\n",
        "  }\n",
        "  run = client.actor(actor_name).call(run_input=run_input)\n",
        "  loader = client.dataset(run[\"defaultDatasetId\"]).iterate_items()\n",
        "#    loader = client.dataset(run[\"defaultDatasetId\"]).iterate_items()\n",
        "  temp = list()\n",
        "  results = list()\n",
        "\n",
        "  for i in loader:\n",
        "    temp.append(i)\n",
        "\n",
        "  query_results = temp[0][\"organicResults\"]\n",
        "\n",
        "  for i in query_results:\n",
        "    results.append(i['url'])\n",
        "\n",
        "  return results"
      ]
    },
    {
      "cell_type": "code",
      "execution_count": null,
      "metadata": {
        "id": "t4NS4P1_XVy_"
      },
      "outputs": [],
      "source": [
        "api_key = os.getenv(\"APIFY_API_TOKEN\")\n",
        "query = \"2024년 반도체 시장 동향.\""
      ]
    },
    {
      "cell_type": "markdown",
      "metadata": {
        "id": "RIihj2WfXYrm"
      },
      "source": [
        "# WebBaseLoader"
      ]
    },
    {
      "cell_type": "code",
      "execution_count": null,
      "metadata": {
        "id": "a60lSFDjXUmu"
      },
      "outputs": [],
      "source": [
        "from langchain.document_loaders import WebBaseLoader\n",
        "\n",
        "web_urls = search_using_apify(api_key, query)\n",
        "\n",
        "#Multiple Webpages\n",
        "loader = WebBaseLoader(web_urls)"
      ]
    },
    {
      "cell_type": "code",
      "execution_count": null,
      "metadata": {
        "colab": {
          "base_uri": "https://localhost:8080/"
        },
        "id": "UDUFoNrJzq-0",
        "outputId": "42cca5a3-5b45-4a7f-a5f0-3160eec4f0c9"
      },
      "outputs": [],
      "source": [
        "web_urls"
      ]
    },
    {
      "cell_type": "code",
      "execution_count": null,
      "metadata": {
        "id": "0s9l-rc2esWV"
      },
      "outputs": [],
      "source": [
        "try:\n",
        "  data = loader.load()\n",
        "except Exception as e:\n",
        "  print(\"*****************EXCEPTION*****************\")\n",
        "  print(e)\n",
        "  pass"
      ]
    },
    {
      "cell_type": "code",
      "execution_count": null,
      "metadata": {
        "colab": {
          "base_uri": "https://localhost:8080/"
        },
        "id": "NqiaH3r6e6_b",
        "outputId": "05b97301-bd67-4de6-ebf4-a6126108cd2c"
      },
      "outputs": [],
      "source": [
        "print(len(data))\n",
        "print(len(data[0].page_content))"
      ]
    },
    {
      "cell_type": "code",
      "execution_count": null,
      "metadata": {
        "id": "U4T-7oK8fH4a"
      },
      "outputs": [],
      "source": [
        "import re\n",
        "\n",
        "# 정규식을 사용하여 \\n 및 \\t를 제거하는 함수\n",
        "def remove_newline_tab(text):\n",
        "    return re.sub(r'\\n|\\t', '', text)\n",
        "\n",
        "def create_new_doc():\n",
        "  # 데이터의 각 Document에 대해 page_content에 대한 정규식 적용\n",
        "  for document in data:\n",
        "      document.page_content = remove_newline_tab(document.page_content)"
      ]
    },
    {
      "cell_type": "code",
      "execution_count": null,
      "metadata": {
        "id": "z7JeIKTsfPcX"
      },
      "outputs": [],
      "source": [
        "create_new_doc()"
      ]
    },
    {
      "cell_type": "markdown",
      "metadata": {
        "id": "0XD_Cqd2f2R0"
      },
      "source": [
        "# LangChain"
      ]
    },
    {
      "cell_type": "code",
      "execution_count": null,
      "metadata": {
        "colab": {
          "base_uri": "https://localhost:8080/"
        },
        "id": "veDtrWwNfSFq",
        "outputId": "e655b491-4aeb-4c13-9731-b302b8dbb1f3"
      },
      "outputs": [],
      "source": [
        "from langchain.text_splitter import CharacterTextSplitter\n",
        "\n",
        "text_splitter = CharacterTextSplitter(chunk_size=1000, chunk_overlap=200)\n",
        "texts = text_splitter.split_documents(data)"
      ]
    },
    {
      "cell_type": "code",
      "execution_count": null,
      "metadata": {
        "id": "fB-eUOtHf8l_"
      },
      "outputs": [],
      "source": [
        "db = Chroma.from_documents(texts, embeddings,persist_directory = \"./chroma_sample33334444344444\")"
      ]
    },
    {
      "cell_type": "markdown",
      "metadata": {
        "id": "JxNuXrtS1el2"
      },
      "source": [
        "#검증절차!!!!!!!!!!!!!!!!!!!!!!!!!!!!!!!!!!!!!!!!!!!!!!!!!"
      ]
    },
    {
      "cell_type": "code",
      "execution_count": null,
      "metadata": {
        "id": "YzmxdV45gcKB"
      },
      "outputs": [],
      "source": [
        "# query it\n",
        "query = \"2024년 반도체 시장 동향에 대해 알려주세요\"\n",
        "docs = db.similarity_search(query,k=2)"
      ]
    },
    {
      "cell_type": "code",
      "execution_count": null,
      "metadata": {
        "colab": {
          "base_uri": "https://localhost:8080/"
        },
        "id": "PFlY3gDHy_o9",
        "outputId": "35d17da3-291d-49b4-d229-2bc720e0b9c9"
      },
      "outputs": [],
      "source": [
        "docs[0]"
      ]
    },
    {
      "cell_type": "code",
      "execution_count": null,
      "metadata": {
        "id": "waC6LZMhgmIl"
      },
      "outputs": [],
      "source": [
        "from langchain.chains.question_answering import load_qa_chain\n",
        "\n",
        "chain = load_qa_chain(llm=llm, chain_type=\"map_reduce\")"
      ]
    },
    {
      "cell_type": "code",
      "execution_count": null,
      "metadata": {
        "colab": {
          "base_uri": "https://localhost:8080/",
          "height": 35
        },
        "id": "l_nMcpGzguTk",
        "outputId": "a5567726-5c26-49ec-c404-73fae8b3bdae"
      },
      "outputs": [],
      "source": [
        "chain.run(input_documents=docs, question=query)"
      ]
    }
  ],
  "metadata": {
    "colab": {
      "provenance": []
    },
    "kernelspec": {
      "display_name": "Python 3",
      "name": "python3"
    },
    "language_info": {
      "name": "python"
    }
  },
  "nbformat": 4,
  "nbformat_minor": 0
}
