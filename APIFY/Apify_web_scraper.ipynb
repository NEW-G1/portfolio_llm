{
  "cells": [
    {
      "cell_type": "code",
      "execution_count": null,
      "metadata": {
        "colab": {
          "base_uri": "https://localhost:8080/"
        },
        "id": "ti8hbsymYuGD",
        "outputId": "6df786c4-d8be-48b6-9516-2f356c61fde7"
      },
      "outputs": [],
      "source": [
        "!pip install apify-client  chromadb tiktoken cohere langchainhub openai langchain"
      ]
    },
    {
      "cell_type": "code",
      "execution_count": null,
      "metadata": {
        "id": "MRlDRnwRZy5x"
      },
      "outputs": [],
      "source": [
        "from langchain.document_loaders.base import Document\n",
        "from langchain.indexes import VectorstoreIndexCreator\n",
        "from langchain.utilities import ApifyWrapper\n",
        "from langchain.embeddings.openai import OpenAIEmbeddings\n",
        "from langchain.text_splitter import CharacterTextSplitter\n",
        "\n"
      ]
    },
    {
      "cell_type": "markdown",
      "metadata": {
        "id": "3XnmwQtqUXuN"
      },
      "source": [
        "###https://python.langchain.com/docs/integrations/tools/apify\n"
      ]
    },
    {
      "cell_type": "code",
      "execution_count": null,
      "metadata": {
        "id": "djx90jY1Tl0E"
      },
      "outputs": [],
      "source": [
        "import os\n",
        "\n",
        "os.environ[\"OPENAI_API_KEY\"] = \"OPENAI_API_KEY\"\n",
        "os.environ[\"APIFY_API_TOKEN\"] = \"APIFY_API_TOKEN\""
      ]
    },
    {
      "cell_type": "code",
      "execution_count": null,
      "metadata": {
        "id": "HWxauMFfWlGL"
      },
      "outputs": [],
      "source": [
        "# Vectorstore\n",
        "from langchain.vectorstores import Chroma\n",
        "\n",
        "vectorstore = Chroma(\n",
        "    embedding_function=OpenAIEmbeddings(), persist_directory=\"./chroma_db_apify\"\n",
        ")"
      ]
    },
    {
      "cell_type": "markdown",
      "metadata": {
        "id": "lgyN9Sp6edOM"
      },
      "source": [
        "\n",
        "###https://apify.com/apify/website-content-crawler/input-schema\n",
        "\n",
        "##web scraping python\n",
        "###https://blog.apify.com/web-scraping-python/\n",
        "\n",
        "##보고하시오\n",
        "###https://apify.com/apify/website-content-crawler/api/client/python"
      ]
    },
    {
      "cell_type": "code",
      "execution_count": null,
      "metadata": {
        "id": "oLzyNf8JcbpH"
      },
      "outputs": [],
      "source": [
        "# LLM\n",
        "from langchain.chat_models import ChatOpenAI\n",
        "\n",
        "# ChatGPT 모델 지정\n",
        "#llm = ChatOpenAI(model_name=\"gpt-4-0613\", temperature=0)\n",
        "llm = ChatOpenAI(model_name='gpt-3.5-turbo-1106',temperature=0)"
      ]
    },
    {
      "cell_type": "code",
      "execution_count": null,
      "metadata": {
        "id": "czYjYkwhaT7G"
      },
      "outputs": [],
      "source": [
        "apify = ApifyWrapper()\n",
        "\n",
        "#Prepare the Actor input\n",
        "run_input = {\n",
        "    \"startUrls\": [{ \"url\": \"https://python.langchain.com/en/latest/\" }],\n",
        "    \"includeUrlGlobs\": [],\n",
        "    \"excludeUrlGlobs\": [],\n",
        "    \"initialCookies\": [],\n",
        "    \"proxyConfiguration\": { \"useApifyProxy\": True },\n",
        "    \"removeElementsCssSelector\": \"\"\"nav, footer, script, style, noscript, svg,\n",
        "[role=\\\"alert\\\"],\n",
        "[role=\\\"banner\\\"],\n",
        "[role=\\\"dialog\\\"],\n",
        "[role=\\\"alertdialog\\\"],\n",
        "[role=\\\"region\\\"][aria-label*=\\\"skip\\\" i],\n",
        "[aria-modal=\\\"true\\\"]\"\"\",\n",
        "    \"clickElementsCssSelector\": \"[aria-expanded=\\\"false\\\"]\",\n",
        "}\n",
        "\n",
        "loader = apify.call_actor(\n",
        "    actor_id=\"apify/website-content-crawler\",\n",
        "    run_input=run_input,\n",
        "    dataset_mapping_function=lambda item: Document(\n",
        "        page_content=item[\"text\"] or \"\", metadata={\"source\": item[\"url\"]}\n",
        "    ),\n",
        ")"
      ]
    },
    {
      "cell_type": "code",
      "execution_count": null,
      "metadata": {
        "id": "KB7cvLOfac0S"
      },
      "outputs": [],
      "source": [
        "document = loader.load()"
      ]
    },
    {
      "cell_type": "code",
      "execution_count": null,
      "metadata": {
        "colab": {
          "base_uri": "https://localhost:8080/"
        },
        "id": "dDTsITarXCyQ",
        "outputId": "532758c2-6f58-4e54-b204-74eb4a47ee46"
      },
      "outputs": [],
      "source": [
        "document"
      ]
    },
    {
      "cell_type": "code",
      "execution_count": null,
      "metadata": {
        "id": "irarIf-ObUKw"
      },
      "outputs": [],
      "source": [
        "from langchain.text_splitter import CharacterTextSplitter\n",
        "\n",
        "text_splitter = CharacterTextSplitter(chunk_size=800, chunk_overlap=200)\n",
        "texts = text_splitter.split_documents(document)"
      ]
    },
    {
      "cell_type": "code",
      "execution_count": null,
      "metadata": {
        "id": "JLtx5rp4bjaL"
      },
      "outputs": [],
      "source": [
        "embeddings = OpenAIEmbeddings()\n",
        "\n",
        "# Chroma DB 에 저장\n",
        "db = Chroma.from_documents(texts,embeddings,persist_directory=\"./chroma_db3_apify\")"
      ]
    },
    {
      "cell_type": "code",
      "execution_count": null,
      "metadata": {
        "colab": {
          "base_uri": "https://localhost:8080/"
        },
        "id": "B6kbwQT3aWgT",
        "outputId": "91c8903c-5c6d-4fcc-968d-437e4bef3434"
      },
      "outputs": [],
      "source": [
        "query = \"랭체인 라이브러리에 대해 설명해주세요\"\n",
        "docs = await db.asimilarity_search(query)\n",
        "print(docs[0].page_content)"
      ]
    },
    {
      "cell_type": "code",
      "execution_count": null,
      "metadata": {
        "id": "FV4xrngKaON0"
      },
      "outputs": [],
      "source": [
        "# retriever 가져옴\n",
        "retriever = db.as_retriever()"
      ]
    },
    {
      "cell_type": "code",
      "execution_count": null,
      "metadata": {
        "colab": {
          "base_uri": "https://localhost:8080/"
        },
        "id": "ZbwKsyaicMlz",
        "outputId": "7280b2f2-35a1-470d-aa55-e9c3d3701783"
      },
      "outputs": [],
      "source": [
        "# langchain hub 에서 Prompt 다운로드 예시\n",
        "# https://smith.langchain.com/hub/rlm/rag-prompt\n",
        "\n",
        "from langchain import hub\n",
        "\n",
        "rag_prompt = hub.pull(\"rlm/rag-prompt\")\n",
        "rag_prompt"
      ]
    },
    {
      "cell_type": "code",
      "execution_count": null,
      "metadata": {
        "id": "p-SS8ALIcJXl"
      },
      "outputs": [],
      "source": [
        "# RAG chain 생성\n",
        "from langchain.schema.runnable import RunnablePassthrough\n",
        "\n",
        "# pipe operator를 활용한 체인 생성\n",
        "rag_chain = (\n",
        "    {\"context\": retriever, \"question\": RunnablePassthrough()}\n",
        "    | rag_prompt\n",
        "    | llm\n",
        ")"
      ]
    },
    {
      "cell_type": "code",
      "execution_count": null,
      "metadata": {
        "colab": {
          "base_uri": "https://localhost:8080/"
        },
        "id": "LNlsOtCSalFg",
        "outputId": "b3f59b26-c4e6-4a14-da05-583745e3c66e"
      },
      "outputs": [],
      "source": [
        "query = \"langchain이 뭐냐\"\n",
        "rag_chain.invoke(query)"
      ]
    },
    {
      "cell_type": "code",
      "execution_count": null,
      "metadata": {
        "colab": {
          "base_uri": "https://localhost:8080/"
        },
        "id": "G2n253COcW5Z",
        "outputId": "50ba9e93-4828-4028-d357-a6c3269098a7"
      },
      "outputs": [],
      "source": [
        "query = \"langchain의 agent가 뭐냐?\"\n",
        "rag_chain.invoke(query)"
      ]
    },
    {
      "cell_type": "markdown",
      "metadata": {
        "id": "0QNxZeDf0ULz"
      },
      "source": [
        "#APIFY Google Search result scraper"
      ]
    },
    {
      "cell_type": "code",
      "execution_count": null,
      "metadata": {
        "colab": {
          "base_uri": "https://localhost:8080/"
        },
        "id": "48Uv6pbN0bDU",
        "outputId": "6f8cac58-6e52-4da3-9e79-fe34a01276b2"
      },
      "outputs": [],
      "source": [
        "from apify_client import ApifyClient\n",
        "\n",
        "# Initialize the ApifyClient with your API token\n",
        "client = ApifyClient(os.getenv(\"APIFY_API_TOKEN\"))\n",
        "\n",
        "# Prepare the Actor input\n",
        "run_input = {\n",
        "    \"queries\": \"2024년 한국 반도체 시장의 전망\",\n",
        "    \"maxPagesPerQuery\": 1,\n",
        "    \"resultsPerPage\": 100,\n",
        "    \"customDataFunction\": \"\"\"async ({ input, $, request, response, html }) => {\n",
        "  return {\n",
        "    pageTitle: $('title').text(),\n",
        "  };\n",
        "};\"\"\",\n",
        "}\n",
        "\n",
        "# Run the Actor and wait for it to finish\n",
        "run = client.actor(\"apify/google-search-scraper\").call(run_input=run_input)\n",
        "\n",
        "# Fetch and print Actor results from the run's dataset (if there are any)\n",
        "for item in client.dataset(run[\"defaultDatasetId\"]).iterate_items():\n",
        "    print(item)"
      ]
    }
  ],
  "metadata": {
    "colab": {
      "provenance": []
    },
    "kernelspec": {
      "display_name": "Python 3",
      "name": "python3"
    },
    "language_info": {
      "name": "python"
    }
  },
  "nbformat": 4,
  "nbformat_minor": 0
}
