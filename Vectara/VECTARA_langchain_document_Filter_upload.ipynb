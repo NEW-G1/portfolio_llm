{
  "cells": [
    {
      "cell_type": "markdown",
      "metadata": {
        "id": "jIO0zEP97fau"
      },
      "source": [
        "#PyMuPDFLoader"
      ]
    },
    {
      "cell_type": "code",
      "execution_count": null,
      "metadata": {
        "colab": {
          "base_uri": "https://localhost:8080/"
        },
        "id": "pt6Jy3HT7fav",
        "outputId": "7ddbd390-7f95-47ee-8c0f-d5ff39ffb6d2"
      },
      "outputs": [],
      "source": [
        "!pip install pycoingecko requests tiktoken cohere openai pinecone-client langchain apify-client langchainhub pymupdf"
      ]
    },
    {
      "cell_type": "markdown",
      "metadata": {
        "id": "VQDOK6BMDfr7"
      },
      "source": [
        "###1.IMPORT LIBRARY"
      ]
    },
    {
      "cell_type": "code",
      "execution_count": null,
      "metadata": {
        "colab": {
          "base_uri": "https://localhost:8080/"
        },
        "id": "pudXtZ4w7fav",
        "outputId": "602d7972-da18-4e25-b2f9-e58b0266aa86"
      },
      "outputs": [],
      "source": [
        "from langchain.embeddings.openai import OpenAIEmbeddings\n",
        "from langchain.text_splitter import CharacterTextSplitter\n",
        "from langchain.document_loaders import PyMuPDFLoader\n",
        "import numpy as np\n",
        "import datetime as dt\n",
        "import openai\n",
        "import re\n",
        "import time\n",
        "import pinecone\n",
        "from langchain.document_loaders import TextLoader\n",
        "from langchain.embeddings.openai import OpenAIEmbeddings\n",
        "from langchain.text_splitter import CharacterTextSplitter\n",
        "from langchain.vectorstores import Pinecone"
      ]
    },
    {
      "cell_type": "markdown",
      "metadata": {
        "id": "9EZtiMeaDi3A"
      },
      "source": [
        "###2.KEY SETTINGS"
      ]
    },
    {
      "cell_type": "code",
      "execution_count": null,
      "metadata": {
        "id": "Zp52C7Lw7fav"
      },
      "outputs": [],
      "source": [
        "import os\n",
        "from langchain.vectorstores import Vectara\n",
        "\n",
        "os.environ[\"OPENAI_API_KEY\"]      = \"OPENAI_API_KEY\"\n",
        "os.environ[\"VECTARA_CUSTOMER_ID\"] = \"VECTARA_CUSTOMER_ID\"\n",
        "os.environ[\"VECTARA_CORPUS_ID\"]   = \"VECTARA_CORPUS_ID\"\n",
        "os.environ[\"VECTARA_API_KEY\"]     = \"VECTARA_API_KEY\""
      ]
    },
    {
      "cell_type": "markdown",
      "metadata": {
        "id": "1uZcWRzoDY78"
      },
      "source": [
        "###3.INITIALIZE VECTARA"
      ]
    },
    {
      "cell_type": "code",
      "execution_count": null,
      "metadata": {
        "id": "SBoARJU1DTNW"
      },
      "outputs": [],
      "source": [
        "vectara = Vectara(\n",
        "    vectara_customer_id = os.getenv(\"VECTARA_CUSTOMER_ID\"),\n",
        "    vectara_corpus_id   = os.getenv(\"VECTARA_CORPUS_ID\"),\n",
        "    vectara_api_key     = os.getenv(\"VECTARA_API_KEY\")\n",
        ")"
      ]
    },
    {
      "cell_type": "markdown",
      "metadata": {
        "id": "kt82P2EqD5b6"
      },
      "source": [
        "###4.Upload Document"
      ]
    },
    {
      "cell_type": "code",
      "execution_count": null,
      "metadata": {
        "id": "MGBrXqVeFc-e"
      },
      "outputs": [],
      "source": [
        "loader = PyMuPDFLoader(\"/content/FILE\")"
      ]
    },
    {
      "cell_type": "code",
      "execution_count": null,
      "metadata": {
        "id": "TvwDMnSw7fav"
      },
      "outputs": [],
      "source": [
        "documents = loader.load()"
      ]
    },
    {
      "cell_type": "markdown",
      "metadata": {
        "id": "-02116ksIIkJ"
      },
      "source": [
        "###4-1.metadata"
      ]
    },
    {
      "cell_type": "code",
      "execution_count": null,
      "metadata": {
        "colab": {
          "base_uri": "https://localhost:8080/"
        },
        "id": "9DOyAO-KILhQ",
        "outputId": "4eb636c7-388f-42a6-cfa8-69c454c5e795"
      },
      "outputs": [],
      "source": [
        "documents[0].metadata"
      ]
    },
    {
      "cell_type": "code",
      "execution_count": null,
      "metadata": {
        "id": "S2MElKxCFrm0"
      },
      "outputs": [],
      "source": [
        "vectorstore = Vectara.from_documents(documents, embedding=None, doc_metadata={\"doc_type\":\"pdf\", \"doc_content\":\"semicondoctor\"}\n",
        ")"
      ]
    },
    {
      "cell_type": "code",
      "execution_count": null,
      "metadata": {
        "id": "QKAj8ZBAHCNq"
      },
      "outputs": [],
      "source": [
        "from langchain.memory import ConversationBufferMemory\n",
        "\n",
        "memory = ConversationBufferMemory(memory_key=\"chat_history\", return_messages=True)"
      ]
    },
    {
      "cell_type": "code",
      "execution_count": null,
      "metadata": {
        "id": "EIiv0brl7fav"
      },
      "outputs": [],
      "source": [
        "retriever = vectorstore.as_retriever(lambda_val=0.025, k=5, filter=None)"
      ]
    },
    {
      "cell_type": "code",
      "execution_count": null,
      "metadata": {
        "colab": {
          "base_uri": "https://localhost:8080/"
        },
        "id": "OlM8v4xo7fav",
        "outputId": "31a47980-a99d-4515-9f6d-2d873b8b6b31"
      },
      "outputs": [],
      "source": [
        "# langchain hub 에서 Prompt 다운로드 예시\n",
        "# https://smith.langchain.com/hub/rlm/rag-prompt\n",
        "\n",
        "from langchain import hub\n",
        "\n",
        "rag_prompt = hub.pull(\"rlm/rag-prompt\")\n",
        "rag_prompt"
      ]
    },
    {
      "cell_type": "code",
      "execution_count": null,
      "metadata": {
        "id": "v9Mij1Dx7faw"
      },
      "outputs": [],
      "source": [
        "# LLM\n",
        "from langchain.chat_models import ChatOpenAI\n",
        "\n",
        "# ChatGPT 모델 지정\n",
        "llm = ChatOpenAI(model_name=\"gpt-3.5-turbo-1106\", temperature=0)\n",
        "#llm = ChatOpenAI(model_name='gpt-3.5-turbo-1106',temperature=0)"
      ]
    },
    {
      "cell_type": "code",
      "execution_count": null,
      "metadata": {
        "id": "ffcpfQT_7faw"
      },
      "outputs": [],
      "source": [
        "# RAG chain 생성\n",
        "from langchain.schema.runnable import RunnablePassthrough\n",
        "\n",
        "# pipe operator를 활용한 체인 생성\n",
        "rag_chain = (\n",
        "    {\"context\": retriever, \"question\": RunnablePassthrough()}\n",
        "    | rag_prompt\n",
        "    | llm\n",
        ")"
      ]
    },
    {
      "cell_type": "code",
      "execution_count": null,
      "metadata": {
        "colab": {
          "base_uri": "https://localhost:8080/"
        },
        "id": "ji0KoYd67faw",
        "outputId": "0da644a9-ad40-42f5-90d4-9250570f8bf7"
      },
      "outputs": [],
      "source": [
        "rag_chain.invoke(\"반도체 수출에 가장 큰 영향을 미치는 요인은 무엇인가요?\")"
      ]
    },
    {
      "cell_type": "code",
      "execution_count": null,
      "metadata": {
        "colab": {
          "base_uri": "https://localhost:8080/"
        },
        "id": "KDCOOz5mLuVJ",
        "outputId": "90f7e641-8a85-436c-b010-3234a9f84b03"
      },
      "outputs": [],
      "source": [
        "from langchain.chains import RetrievalQA\n",
        "from langchain.llms import OpenAI\n",
        "\n",
        "search_kwargs = {\n",
        "    \"filter\":{\"doc.doc_content = 'semicondoctor\"}\n",
        "\n",
        "}\n",
        "qa_filter = RetrievalQA.from_llm(llm=llm, retriever=vectara.as_retriever(search_type=\"similarity\",search_kwargs=search_kwargs))\n",
        "qa_filter({\"query\":\"신용도판단\", })"
      ]
    },
    {
      "cell_type": "code",
      "execution_count": null,
      "metadata": {
        "colab": {
          "base_uri": "https://localhost:8080/"
        },
        "id": "rgiqJZzdA4Yn",
        "outputId": "e397dd97-f3ca-4fec-e8a8-074e176b1fb4"
      },
      "outputs": [],
      "source": [
        "rag_chain.invoke(\"반도체 수출 회복에 대한 기대감은 어떻게 형성되나요?\")"
      ]
    },
    {
      "cell_type": "code",
      "execution_count": null,
      "metadata": {
        "colab": {
          "base_uri": "https://localhost:8080/"
        },
        "id": "6LVFauSNBCp8",
        "outputId": "3cd69fe9-ad92-4b0d-b76b-f2652e4a57b3"
      },
      "outputs": [],
      "source": [
        "rag_chain.invoke(\"반도체 수출에 가장 큰 영향을 미치는 요인은 무엇인가요?\")"
      ]
    }
  ],
  "metadata": {
    "colab": {
      "provenance": []
    },
    "kernelspec": {
      "display_name": "Python 3",
      "name": "python3"
    },
    "language_info": {
      "name": "python"
    }
  },
  "nbformat": 4,
  "nbformat_minor": 0
}
