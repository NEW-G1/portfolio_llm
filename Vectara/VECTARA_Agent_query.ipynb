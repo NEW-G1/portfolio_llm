{
  "cells": [
    {
      "cell_type": "code",
      "execution_count": null,
      "metadata": {
        "colab": {
          "base_uri": "https://localhost:8080/"
        },
        "id": "lqK0E0S_lOJG",
        "outputId": "a1daaf41-e290-4db4-d81f-7f1f902ec424"
      },
      "outputs": [],
      "source": [
        "!pip install pycoingecko requests tiktoken cohere openai langchain langchain_experimental google-search-results"
      ]
    },
    {
      "cell_type": "markdown",
      "metadata": {
        "id": "xIB6YLzGHh0g"
      },
      "source": [
        "###1.IMPORT LIBRARY"
      ]
    },
    {
      "cell_type": "code",
      "execution_count": null,
      "metadata": {
        "id": "csnX63HhWwyR"
      },
      "outputs": [],
      "source": [
        "import os\n",
        "import requests\n",
        "import json\n",
        "from datetime import datetime\n",
        "\n",
        "from langchain.document_loaders.base import Document\n",
        "from langchain.utilities import ApifyWrapper\n",
        "from langchain.vectorstores import Vectara\n",
        "from langchain.memory import ConversationBufferMemory\n",
        "from langchain.chat_models import ChatOpenAI\n",
        "from langchain.schema.runnable import RunnablePassthrough\n",
        "from langchain.chains.combine_documents.stuff import StuffDocumentsChain\n",
        "from langchain.chains.llm import LLMChain\n",
        "from langchain.chains import RetrievalQA\n",
        "from langchain.schema.output_parser import StrOutputParser\n",
        "from langchain.utilities import GoogleSearchAPIWrapper\n",
        "from langchain.prompts import PromptTemplate,ChatPromptTemplate, MessagesPlaceholder"
      ]
    },
    {
      "cell_type": "markdown",
      "metadata": {
        "id": "n520zBIcHwhS"
      },
      "source": [
        "###2.KEY SETTINGS"
      ]
    },
    {
      "cell_type": "code",
      "execution_count": null,
      "metadata": {
        "id": "-HR1H9tt4KYh"
      },
      "outputs": [],
      "source": [
        "os.environ[\"OPENAI_API_KEY\"]      = \"OPENAI_API_KEY\"\n",
        "os.environ[\"VECTARA_CUSTOMER_ID\"] = \"VECTARA_CUSTOMER_ID\"\n",
        "os.environ[\"VECTARA_CORPUS_ID\"]   = \"VECTARA_CORPUS_ID\"\n",
        "os.environ[\"VECTARA_API_KEY\"]     = \"VECTARA_API_KEY\"\n",
        "os.environ[\"GOOGLE_API_KEY\"]      = \"GOOGLE_API_KEY\"\n",
        "os.environ[\"GOOGLE_CSE_ID\"]       = \"GOOGLE_CSE_ID\""
      ]
    },
    {
      "cell_type": "markdown",
      "metadata": {
        "id": "1uZcWRzoDY78"
      },
      "source": [
        "###3.INITIALIZE VECTARA"
      ]
    },
    {
      "cell_type": "code",
      "execution_count": null,
      "metadata": {
        "id": "SBoARJU1DTNW"
      },
      "outputs": [],
      "source": [
        "vectara = Vectara(\n",
        "    vectara_customer_id = os.getenv(\"VECTARA_CUSTOMER_ID\"),\n",
        "    vectara_corpus_id   = os.getenv(\"VECTARA_CORPUS_ID\"),\n",
        "    vectara_api_key     = os.getenv(\"VECTARA_API_KEY\")\n",
        ")"
      ]
    },
    {
      "cell_type": "code",
      "execution_count": null,
      "metadata": {
        "id": "V3xfky6-x6YH"
      },
      "outputs": [],
      "source": [
        "# ChatGPT 모델 지정\n",
        "#llm = ChatOpenAI(model_name=\"gpt-4-0613\", temperature=0)\n",
        "llm = ChatOpenAI(model_name='gpt-3.5-turbo-1106',temperature=0)"
      ]
    },
    {
      "cell_type": "code",
      "execution_count": null,
      "metadata": {
        "id": "9N4PU03Zik8j"
      },
      "outputs": [],
      "source": [
        "# Create Prompt\n",
        "question_prompt_template = \"\"\"Use the following portion of a long document to see if any of the text is relevant to answer the question.\n",
        "Return any relevant text verbatim.\n",
        "{context}\n",
        "Question: {question}\n",
        "Relevant text, if any:\"\"\"\n",
        "#prompt = ChatPromptTemplate.from_template(question_prompt_template)\n",
        "QUESTION_PROMPT = PromptTemplate(\n",
        "    template=question_prompt_template, input_variables=[\"context\", \"question\"]\n",
        ")\n",
        "\n",
        "#chain_type_kwargs = {\"verbose\": True,  \"question_prompt\": QUESTION_PROMPT}"
      ]
    },
    {
      "cell_type": "code",
      "execution_count": null,
      "metadata": {
        "id": "GXJFFnFlKio_"
      },
      "outputs": [],
      "source": [
        "# Define retriever\n",
        "retriever = vectara.as_retriever(lambda_val=0.025, k=10, filter=None)\n",
        "#retriever = vectara.as_retriever()\n",
        "\n",
        "from langchain.chains import RetrievalQAWithSourcesChain\n",
        "\n",
        "knowledgeBase_qa = RetrievalQA.from_chain_type(\n",
        "    llm=llm,\n",
        "    chain_type=\"stuff\",\n",
        "    retriever=retriever,\n",
        "    input_key=\"query\",\n",
        "    verbose=True,\n",
        "    chain_type_kwargs={\n",
        "        \"prompt\": QUESTION_PROMPT\n",
        "    },\n",
        ")"
      ]
    },
    {
      "cell_type": "code",
      "execution_count": null,
      "metadata": {
        "id": "8cJdrsSXP5JI"
      },
      "outputs": [],
      "source": [
        "def run_qa_chain(query):\n",
        "    results = knowledgeBase_qa({\"query\": query},return_only_outputs=True)\n",
        "    return str(results)"
      ]
    },
    {
      "cell_type": "code",
      "execution_count": null,
      "metadata": {
        "id": "8ia1aIcMkMCU"
      },
      "outputs": [],
      "source": [
        "from langchain.agents import load_tools\n",
        "from langchain.agents import AgentType\n",
        "from langchain.agents import initialize_agent, Tool\n",
        "from langchain.tools import BaseTool\n",
        "from langchain import LLMMathChain\n",
        "\n",
        "# Search\n",
        "search = GoogleSearchAPIWrapper()\n",
        "\n",
        "tools = [\n",
        "    Tool(\n",
        "        name='Knowledge Base',\n",
        "        func=run_qa_chain,\n",
        "        return_direct=True,\n",
        "        description=(f'''\n",
        "            use this tool when answering general knowledge queries to get\n",
        "            more information about the topic\n",
        "            '''\n",
        "        )\n",
        "    )\n",
        "\n",
        "]"
      ]
    },
    {
      "cell_type": "code",
      "execution_count": null,
      "metadata": {
        "id": "Z1CR1a2CnqWT"
      },
      "outputs": [],
      "source": [
        "agent_template = \"\"\"You are an expert at extracting information from your knowledge base.\n",
        "When searching for the first time, a search is performed in the knowledge base,\n",
        "and if there are insufficient or no results, a Google search is performed and the results are displayed.\n",
        "Be sure to answer in Korean!\n",
        "{memory}\n",
        "Human: {human_input}\n",
        "Chatbot:\"\"\"\n",
        "\n",
        "agent_prompt = PromptTemplate(input_variables=[\"memory\", \"human_input\"],template=agent_template)\n",
        "\n",
        "agent_memory = ConversationBufferMemory(memory_key=\"memory\",prompt=agent_prompt, return_messages=True)\n",
        "\n",
        "agent_kwargs = {\n",
        "            \"extra_prompt_messages\": [MessagesPlaceholder(variable_name=\"agent_memory\")],\n",
        "        }\n"
      ]
    },
    {
      "cell_type": "code",
      "execution_count": null,
      "metadata": {
        "id": "5PUlnF7YoPxw"
      },
      "outputs": [],
      "source": [
        "agent = initialize_agent(\n",
        "    tools,\n",
        "    llm,\n",
        "    agent=AgentType.ZERO_SHOT_REACT_DESCRIPTION,\n",
        "    verbose=True,\n",
        "    agent_kwargs=agent_kwargs,\n",
        "    memory=agent_memory,\n",
        "    max_execution_time=1,\n",
        "    early_stopping_method=\"generate\",\n",
        ")"
      ]
    },
    {
      "cell_type": "code",
      "execution_count": null,
      "metadata": {
        "colab": {
          "base_uri": "https://localhost:8080/"
        },
        "id": "ixj7_QPmuTKd",
        "outputId": "befb201d-7326-4988-a41a-f6742ae05cd1"
      },
      "outputs": [],
      "source": [
        "response = agent(\n",
        "    {\n",
        "        \"input\": \"2024년 반도체 시장의 전망과 예측\"\n",
        "    }\n",
        ")"
      ]
    },
    {
      "cell_type": "code",
      "execution_count": null,
      "metadata": {
        "colab": {
          "base_uri": "https://localhost:8080/",
          "height": 109
        },
        "id": "GMxlvmP5gjrB",
        "outputId": "7e9ec7f6-d32f-4412-fe44-a6f4b7f6ea27"
      },
      "outputs": [],
      "source": [
        "response['output']"
      ]
    },
    {
      "cell_type": "markdown",
      "metadata": {
        "id": "BeamCl51aFBo"
      },
      "source": [
        "###result 뽑는거...."
      ]
    },
    {
      "cell_type": "code",
      "execution_count": null,
      "metadata": {
        "id": "EAxka07lT_ZF"
      },
      "outputs": [],
      "source": [
        "def extract_result():\n",
        "\n",
        "  import re\n",
        "\n",
        "  # 정규식 패턴\n",
        "  result_pattern = r\"'result': '(.*?)'\"\n",
        "\n",
        "  # 정규식을 사용하여 추출\n",
        "  result_match = re.search(result_pattern, response['output'])\n",
        "\n",
        "  # 결과 출력\n",
        "  if result_match:\n",
        "      result_value = result_match.group(1)\n",
        "      #print(result_value)\n",
        "\n",
        "      return result_value\n",
        "  else:\n",
        "      return response['output']"
      ]
    },
    {
      "cell_type": "markdown",
      "metadata": {
        "id": "DZwnU8_fvzWs"
      },
      "source": [
        "# 결과...\n",
        "## LLM Result\n",
        "## Metadata"
      ]
    },
    {
      "cell_type": "code",
      "execution_count": null,
      "metadata": {
        "id": "0Mm7CZo8t38K"
      },
      "outputs": [],
      "source": [
        "source_documents = retriever.get_relevant_documents(\n",
        "    \"2024년 반도체 시장의 전망과 예측\"\n",
        ")"
      ]
    },
    {
      "cell_type": "code",
      "execution_count": null,
      "metadata": {
        "colab": {
          "base_uri": "https://localhost:8080/"
        },
        "id": "Rw21LQlVwHQo",
        "outputId": "652b432a-46d4-4a9a-b171-31c0d70550ed"
      },
      "outputs": [],
      "source": [
        "print(extract_result())\n",
        "\n",
        "for i in range(len(source_documents)):\n",
        "  #print(source_documents[i].page_content[0:100])\n",
        "  print(source_documents[i].metadata)"
      ]
    },
    {
      "cell_type": "markdown",
      "metadata": {
        "id": "7Uby4d1BB5SX"
      },
      "source": [
        "#안넘어가서 테스트해봄"
      ]
    },
    {
      "cell_type": "code",
      "execution_count": null,
      "metadata": {
        "colab": {
          "base_uri": "https://localhost:8080/"
        },
        "id": "kkXVCxETaPko",
        "outputId": "1a2dd1f9-e448-4f41-e6fc-850f5c9a1989"
      },
      "outputs": [],
      "source": [
        "\"\"\"\n",
        "We then provide a deep dive on the four main components.\n",
        "## Document Loaders\n",
        "How to load documents from a variety of sources.\n",
        "## Text Splitters\n",
        "An overview of the abstractions and implementions around splitting text.\n",
        "## VectorStores\n",
        "An overview of VectorStores and the many integrations LangChain provides.\n",
        "## Retrievers\n",
        "An overview of Retrievers and the implementations LangChain provides.\n",
        "\"\"\"\n",
        "\n",
        "# Document Loaders\n",
        "## Using directory loader to load all .md files in a directory\n",
        "from langchain.document_loaders import TextLoader\n",
        "from langchain.document_loaders import DirectoryLoader\n",
        "loader = DirectoryLoader('./sample_data/', glob=\"**/*.md\", loader_cls=TextLoader)\n",
        "docs = loader.load()\n",
        "print(len(docs))\n",
        "\n"
      ]
    },
    {
      "cell_type": "code",
      "execution_count": null,
      "metadata": {
        "id": "VeDh__3g5wai"
      },
      "outputs": [],
      "source": [
        "# Text Splitters\n",
        "from langchain.text_splitter import MarkdownTextSplitter\n",
        "markdown_splitter = MarkdownTextSplitter(chunk_size=2000, chunk_overlap=100, length_function=len)\n",
        "md_docs = markdown_splitter.split_documents(docs)\n",
        "\n",
        "# Embeddings\n",
        "\n",
        "from langchain.embeddings import OpenAIEmbeddings\n",
        "embeddings = OpenAIEmbeddings()\n",
        "\n"
      ]
    },
    {
      "cell_type": "code",
      "execution_count": null,
      "metadata": {
        "colab": {
          "base_uri": "https://localhost:8080/"
        },
        "id": "6LSzHvYx6SKq",
        "outputId": "8e7b01b1-5d8d-45c1-c546-2dbe44c5430a"
      },
      "outputs": [],
      "source": [
        "!pip install faiss-cpu"
      ]
    },
    {
      "cell_type": "code",
      "execution_count": null,
      "metadata": {
        "id": "kpsK6Da4501l"
      },
      "outputs": [],
      "source": [
        "# Vector stores (pip install faiss or pip install faiss-cpu)\n",
        "from langchain.vectorstores import FAISS\n",
        "db = FAISS.from_documents(md_docs, embeddings)\n",
        "\n"
      ]
    },
    {
      "cell_type": "code",
      "execution_count": null,
      "metadata": {
        "colab": {
          "base_uri": "https://localhost:8080/"
        },
        "id": "hfBtOOR66DyY",
        "outputId": "2e85f880-959f-4d32-fee3-fab1d8ee201d"
      },
      "outputs": [],
      "source": [
        "# Retrievers\n",
        "query = \"How do I deploy chains?\"\n",
        "retriever = db.as_retriever(search_kwargs={\"k\": 4})\n",
        "filtered_docs = retriever.get_relevant_documents(query)\n",
        "print(len(filtered_docs))\n",
        "\n"
      ]
    },
    {
      "cell_type": "code",
      "execution_count": null,
      "metadata": {
        "colab": {
          "base_uri": "https://localhost:8080/"
        },
        "id": "XkjG0ITY7SEg",
        "outputId": "8818d2cb-dd03-4f52-8e2b-82abe3bb4285"
      },
      "outputs": [],
      "source": [
        "filtered_docs"
      ]
    },
    {
      "cell_type": "code",
      "execution_count": null,
      "metadata": {
        "id": "ryxroxFk7Qby"
      },
      "outputs": [],
      "source": [
        "# LLM\n",
        "from langchain.prompts import PromptTemplate\n",
        "#from custom_conversation_chain import CustomLLM\n",
        "from langchain.chains import RetrievalQAWithSourcesChain\n",
        "question_prompt_template = \"\"\"Use the following portion of a long document to see if any of the text is relevant to answer the question.\n",
        "Return any relevant text verbatim.\n",
        "{context}\n",
        "Question: {question}\n",
        "Relevant text, if any:\"\"\"\n",
        "QUESTION_PROMPT = PromptTemplate(\n",
        "    template=question_prompt_template, input_variables=[\"context\", \"question\"]\n",
        ")\n",
        "\n",
        "combine_prompt_template = \"\"\"Given the following extracted parts of a long document and a question, create a final answer with references (\"SOURCES\").\n",
        "If you don't know the answer, just say that you don't know. Don't try to make up an answer.\n",
        "ALWAYS return a \"SOURCES\" part in your answer.\n",
        "QUESTION: Which state/country's law governs the interpretation of the contract?\n",
        "=========\n",
        "Content: This Agreement is governed by English law and the parties submit to the exclusive jurisdiction of the English courts in  relation to any dispute (contractual or non-contractual) concerning this Agreement save that either party may apply to any court for an  injunction or other relief to protect its Intellectual Property Rights.\n",
        "Source: 28-pl\n",
        "Content: No Waiver. Failure or delay in exercising any right or remedy under this Agreement shall not constitute a waiver of such (or any other)  right or remedy.\\n\\n11.7 Severability. The invalidity, illegality or unenforceability of any term (or part of a term) of this Agreement shall not affect the continuation  in force of the remainder of the term (if any) and this Agreement.\\n\\n11.8 No Agency. Except as expressly stated otherwise, nothing in this Agreement shall create an agency, partnership or joint venture of any  kind between the parties.\\n\\n11.9 No Third-Party Beneficiaries.\n",
        "Source: 30-pl\n",
        "Content: (b) if Google believes, in good faith, that the Distributor has violated or caused Google to violate any Anti-Bribery Laws (as  defined in Clause 8.5) or that such a violation is reasonably likely to occur,\n",
        "Source: 4-pl\n",
        "=========\n",
        "FINAL ANSWER: This Agreement is governed by English law.\n",
        "SOURCES: 28-pl\n",
        "QUESTION: What did the president say about Michael Jackson?\n",
        "=========\n",
        "Content: Madam Speaker, Madam Vice President, our First Lady and Second Gentleman. Members of Congress and the Cabinet. Justices of the Supreme Court. My fellow Americans.  \\n\\nLast year COVID-19 kept us apart. This year we are finally together again. \\n\\nTonight, we meet as Democrats Republicans and Independents. But most importantly as Americans. \\n\\nWith a duty to one another to the American people to the Constitution. \\n\\nAnd with an unwavering resolve that freedom will always triumph over tyranny. \\n\\nSix days ago, Russia's Vladimir Putin sought to shake the foundations of the free world thinking he could make it bend to his menacing ways. But he badly miscalculated. \\n\\nHe thought he could roll into Ukraine and the world would roll over. Instead he met a wall of strength he never imagined. \\n\\nHe met the Ukrainian people. \\n\\nFrom President Zelenskyy to every Ukrainian, their fearlessness, their courage, their determination, inspires the world. \\n\\nGroups of citizens blocking tanks with their bodies. Everyone from students to retirees teachers turned soldiers defending their homeland.\n",
        "Source: 0-pl\n",
        "Content: And we won't stop. \\n\\nWe have lost so much to COVID-19. Time with one another. And worst of all, so much loss of life. \\n\\nLet's use this moment to reset. Let's stop looking at COVID-19 as a partisan dividing line and see it for what it is: A God-awful disease.  \\n\\nLet's stop seeing each other as enemies, and start seeing each other for who we really are: Fellow Americans.  \\n\\nWe can't change how divided we've been. But we can change how we move forward—on COVID-19 and other issues we must face together. \\n\\nI recently visited the New York City Police Department days after the funerals of Officer Wilbert Mora and his partner, Officer Jason Rivera. \\n\\nThey were responding to a 9-1-1 call when a man shot and killed them with a stolen gun. \\n\\nOfficer Mora was 27 years old. \\n\\nOfficer Rivera was 22. \\n\\nBoth Dominican Americans who'd grown up on the same streets they later chose to patrol as police officers. \\n\\nI spoke with their families and told them that we are forever in debt for their sacrifice, and we will carry on their mission to restore the trust and safety every community deserves.\n",
        "Source: 24-pl\n",
        "Content: And a proud Ukrainian people, who have known 30 years  of independence, have repeatedly shown that they will not tolerate anyone who tries to take their country backwards.  \\n\\nTo all Americans, I will be honest with you, as I've always promised. A Russian dictator, invading a foreign country, has costs around the world. \\n\\nAnd I'm taking robust action to make sure the pain of our sanctions  is targeted at Russia's economy. And I will use every tool at our disposal to protect American businesses and consumers. \\n\\nTonight, I can announce that the United States has worked with 30 other countries to release 60 Million barrels of oil from reserves around the world.  \\n\\nAmerica will lead that effort, releasing 30 Million barrels from our own Strategic Petroleum Reserve. And we stand ready to do more if necessary, unified with our allies.  \\n\\nThese steps will help blunt gas prices here at home. And I know the news about what's happening can seem alarming. \\n\\nBut I want you to know that we are going to be okay.\n",
        "Source: 5-pl\n",
        "Content: More support for patients and families. \\n\\nTo get there, I call on Congress to fund ARPA-H, the Advanced Research Projects Agency for Health. \\n\\nIt's based on DARPA—the Defense Department project that led to the Internet, GPS, and so much more.  \\n\\nARPA-H will have a singular purpose—to drive breakthroughs in cancer, Alzheimer's, diabetes, and more. \\n\\nA unity agenda for the nation. \\n\\nWe can do this. \\n\\nMy fellow Americans—tonight , we have gathered in a sacred space—the citadel of our democracy. \\n\\nIn this Capitol, generation after generation, Americans have debated great questions amid great strife, and have done great things. \\n\\nWe have fought for freedom, expanded liberty, defeated totalitarianism and terror. \\n\\nAnd built the strongest, freest, and most prosperous nation the world has ever known. \\n\\nNow is the hour. \\n\\nOur moment of responsibility. \\n\\nOur test of resolve and conscience, of history itself. \\n\\nIt is in this moment that our character is formed. Our purpose is found. Our future is forged. \\n\\nWell I know this nation.\n",
        "Source: 34-pl\n",
        "=========\n",
        "FINAL ANSWER: The president did not mention Michael Jackson.\n",
        "SOURCES:\n",
        "QUESTION: {question}\n",
        "=========\n",
        "{summaries}\n",
        "=========\n",
        "FINAL ANSWER:\"\"\"\n",
        "COMBINE_PROMPT = PromptTemplate(\n",
        "    template=combine_prompt_template, input_variables=[\"summaries\", \"question\"]\n",
        ")\n",
        "\n",
        "\n"
      ]
    },
    {
      "cell_type": "code",
      "execution_count": null,
      "metadata": {
        "colab": {
          "base_uri": "https://localhost:8080/"
        },
        "id": "NoERIza97Zlh",
        "outputId": "df84bdfc-db4d-4851-fff5-3078f32fd4b6"
      },
      "outputs": [],
      "source": [
        "#chain_type_kwargs = {\"verbose\": True, \"combine_prompt\": COMBINE_PROMPT, \"question_prompt\": QUESTION_PROMPT}\n",
        "\n",
        "chain_type_kwargs = {\"verbose\": True,  \"question_prompt\": QUESTION_PROMPT}\n",
        "\n",
        "qa = RetrievalQAWithSourcesChain.from_chain_type(llm=llm, chain_type=\"map_reduce\",\n",
        "                                retriever=retriever, return_source_documents=True,\n",
        "                                chain_type_kwargs=chain_type_kwargs)\n",
        "response = qa({\"question\": \"How do i deploy chains?\", \"verbose\": True})\n",
        "print(response.keys())\n",
        "print(response[\"answer\"])\n",
        "print(response[\"sources\"])"
      ]
    },
    {
      "cell_type": "code",
      "execution_count": null,
      "metadata": {
        "colab": {
          "base_uri": "https://localhost:8080/"
        },
        "id": "AIfhkEA38Q7A",
        "outputId": "1506e636-897c-4456-c225-c381a6d34703"
      },
      "outputs": [],
      "source": [
        "print(response.keys())"
      ]
    },
    {
      "cell_type": "code",
      "execution_count": null,
      "metadata": {
        "colab": {
          "base_uri": "https://localhost:8080/"
        },
        "id": "GV_OE9dD8XDe",
        "outputId": "45f00a44-ff81-43cd-805d-827e34a8c793"
      },
      "outputs": [],
      "source": [
        "print(response['source_documents'])"
      ]
    }
  ],
  "metadata": {
    "colab": {
      "provenance": []
    },
    "kernelspec": {
      "display_name": "Python 3",
      "name": "python3"
    },
    "language_info": {
      "name": "python"
    }
  },
  "nbformat": 4,
  "nbformat_minor": 0
}
